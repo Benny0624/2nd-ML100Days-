{
 "cells": [
  {
   "cell_type": "markdown",
   "metadata": {},
   "source": [
    "## 練習時間"
   ]
  },
  {
   "cell_type": "markdown",
   "metadata": {},
   "source": [
    "請觀看李宏毅教授以神奇寶貝進化 CP 值預測的範例，解說何謂機器學習與過擬合。並回答以下問題"
   ]
  },
  {
   "cell_type": "markdown",
   "metadata": {},
   "source": [
    "[youtube](https://www.youtube.com/watch?v=fegAeph9UaA)"
   ]
  },
  {
   "cell_type": "markdown",
   "metadata": {},
   "source": [
    "### 1. 模型的泛化能力 (generalization) 是指什麼？ \n",
    "#### 泛化能力（generalization ability）是指機器學習演算法對新樣本的適應能力,，簡言之就是在原有的數據集上添加新的數據集，通過訓練輸出一個合理的結果。目的是學到隱含在數據背後的規律，對具有同一規律的集合以外的數據，經過訓練的網路也能給出合適的輸出。\n",
    "### 2. 分類問題與回歸問題分別可用的目標函數有哪些？\n",
    "#### 回歸目標函數: Simple Linear Regression, Multiple Linear Regression, Polynomial Regression, Support Vector Regression (SVR),  Decision Tree Regression,Random Forest Regression\n",
    "#### 分類目標函數: Logistic Regression, K-Nearest Neighbors (K-NN), Support Vector Machine (SVM), Kernel SVM, Naive Bayes, Decision Tree Classification, Random Forest Classification"
   ]
  }
 ],
 "metadata": {
  "kernelspec": {
   "display_name": "Python 3",
   "language": "python",
   "name": "python3"
  },
  "language_info": {
   "codemirror_mode": {
    "name": "ipython",
    "version": 3
   },
   "file_extension": ".py",
   "mimetype": "text/x-python",
   "name": "python",
   "nbconvert_exporter": "python",
   "pygments_lexer": "ipython3",
   "version": "3.7.3"
  }
 },
 "nbformat": 4,
 "nbformat_minor": 2
}
