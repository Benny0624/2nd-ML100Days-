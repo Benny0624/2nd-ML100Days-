{
 "cells": [
  {
   "cell_type": "markdown",
   "metadata": {},
   "source": [
    "## Work\n",
    "1. 請嘗試寫一個 callback 用來記錄各類別在訓練過程中，對驗證集的 True Positive 與 True Negative"
   ]
  },
  {
   "cell_type": "code",
   "execution_count": 1,
   "metadata": {},
   "outputs": [
    {
     "name": "stderr",
     "output_type": "stream",
     "text": [
      "Using TensorFlow backend.\n"
     ]
    }
   ],
   "source": [
    "import os\n",
    "import keras\n",
    "\n",
    "# Disable GPU\n",
    "os.environ[\"CUDA_VISIBLE_DEVICES\"] = \"\""
   ]
  },
  {
   "cell_type": "code",
   "execution_count": 2,
   "metadata": {},
   "outputs": [],
   "source": [
    "train, test = keras.datasets.cifar10.load_data()"
   ]
  },
  {
   "cell_type": "code",
   "execution_count": 3,
   "metadata": {},
   "outputs": [],
   "source": [
    "## 資料前處理\n",
    "def preproc_x(x, flatten=True):\n",
    "    x = x / 255.\n",
    "    if flatten:\n",
    "        x = x.reshape((len(x), -1))\n",
    "    return x\n",
    "\n",
    "def preproc_y(y, num_classes=10):\n",
    "    if y.shape[-1] == 1:\n",
    "        y = keras.utils.to_categorical(y, num_classes)\n",
    "    return y    "
   ]
  },
  {
   "cell_type": "code",
   "execution_count": 4,
   "metadata": {},
   "outputs": [],
   "source": [
    "x_train, y_train = train\n",
    "x_test, y_test = test\n",
    "\n",
    "# Preproc the inputs\n",
    "x_train = preproc_x(x_train)\n",
    "x_test = preproc_x(x_test)\n",
    "\n",
    "# Preprc the outputs\n",
    "y_train = preproc_y(y_train)\n",
    "y_test = preproc_y(y_test)"
   ]
  },
  {
   "cell_type": "code",
   "execution_count": 5,
   "metadata": {},
   "outputs": [],
   "source": [
    "from keras.layers import BatchNormalization\n",
    "\n",
    "def build_mlp(input_shape, output_units=10, num_neurons=[256, 256, 256]):\n",
    "    input_layer = keras.layers.Input(input_shape)\n",
    "    \n",
    "    for i, n_units in enumerate(num_neurons):\n",
    "        if i == 0:\n",
    "            x = keras.layers.Dense(units=n_units, \n",
    "                                   activation=\"relu\", \n",
    "                                   name=\"hidden_layer\"+str(i+1))(input_layer)\n",
    "            x = BatchNormalization()(x)\n",
    "        else:\n",
    "            x = keras.layers.Dense(units=n_units, \n",
    "                                   activation=\"relu\", \n",
    "                                   name=\"hidden_layer\"+str(i+1))(x)\n",
    "            x = BatchNormalization()(x)\n",
    "    \n",
    "    out = keras.layers.Dense(units=output_units, activation=\"softmax\", name=\"output\")(x)\n",
    "    \n",
    "    model = keras.models.Model(inputs=[input_layer], outputs=[out])\n",
    "    return model"
   ]
  },
  {
   "cell_type": "code",
   "execution_count": 6,
   "metadata": {},
   "outputs": [],
   "source": [
    "## 超參數設定\n",
    "LEARNING_RATE = 1e-3\n",
    "EPOCHS = 25\n",
    "BATCH_SIZE = 1024\n",
    "MOMENTUM = 0.95"
   ]
  },
  {
   "cell_type": "code",
   "execution_count": 22,
   "metadata": {},
   "outputs": [],
   "source": [
    "# 載入 Callbacks\n",
    "from keras.callbacks import Callback\n",
    "from sklearn.metrics import multilabel_confusion_matrix\n",
    "\n",
    "# Record_fp_tp\n",
    "class Record_tp_tn(Callback):\n",
    "    def on_train_begin(self, logs = {}):\n",
    "        logs = logs or {}\n",
    "        self.cm = []\n",
    "    def on_epoch_end(self, epoch, logs = {}, thres=0.5):\n",
    "        logs = logs or {}\n",
    "        y_true = self.validation_data[1].argmax(axis = 1) # 真的是哪一類別 (y_test 取 argmax)\n",
    "        y_pred = self.model.predict(self.validation_data[0]) # 是哪一類別的機率\n",
    "        y_pred = (y_pred[:, 1] >= thres) * 1\n",
    "        self.cm.append(multilabel_confusion_matrix(y_true,y_pred))\n",
    "rec_tptn = Record_tp_tn()"
   ]
  },
  {
   "cell_type": "code",
   "execution_count": 23,
   "metadata": {
    "scrolled": false
   },
   "outputs": [
    {
     "name": "stdout",
     "output_type": "stream",
     "text": [
      "Model: \"model_3\"\n",
      "_________________________________________________________________\n",
      "Layer (type)                 Output Shape              Param #   \n",
      "=================================================================\n",
      "input_3 (InputLayer)         (None, 3072)              0         \n",
      "_________________________________________________________________\n",
      "hidden_layer1 (Dense)        (None, 256)               786688    \n",
      "_________________________________________________________________\n",
      "batch_normalization_7 (Batch (None, 256)               1024      \n",
      "_________________________________________________________________\n",
      "hidden_layer2 (Dense)        (None, 256)               65792     \n",
      "_________________________________________________________________\n",
      "batch_normalization_8 (Batch (None, 256)               1024      \n",
      "_________________________________________________________________\n",
      "hidden_layer3 (Dense)        (None, 256)               65792     \n",
      "_________________________________________________________________\n",
      "batch_normalization_9 (Batch (None, 256)               1024      \n",
      "_________________________________________________________________\n",
      "output (Dense)               (None, 10)                2570      \n",
      "=================================================================\n",
      "Total params: 923,914\n",
      "Trainable params: 922,378\n",
      "Non-trainable params: 1,536\n",
      "_________________________________________________________________\n",
      "Train on 50000 samples, validate on 10000 samples\n",
      "Epoch 1/25\n",
      "50000/50000 [==============================] - 78s 2ms/step - loss: 2.2509 - accuracy: 0.2571 - val_loss: 2.1503 - val_accuracy: 0.2088\n",
      "Epoch 2/25\n",
      "50000/50000 [==============================] - 9s 173us/step - loss: 1.7753 - accuracy: 0.3810 - val_loss: 1.9861 - val_accuracy: 0.3129\n",
      "Epoch 3/25\n",
      "50000/50000 [==============================] - 7s 142us/step - loss: 1.6427 - accuracy: 0.4221 - val_loss: 1.8460 - val_accuracy: 0.3568\n",
      "Epoch 4/25\n",
      "50000/50000 [==============================] - 7s 139us/step - loss: 1.5699 - accuracy: 0.4505 - val_loss: 1.7321 - val_accuracy: 0.4010\n",
      "Epoch 5/25\n",
      "50000/50000 [==============================] - 7s 139us/step - loss: 1.5135 - accuracy: 0.4699 - val_loss: 1.6527 - val_accuracy: 0.4200\n",
      "Epoch 6/25\n",
      "50000/50000 [==============================] - 7s 136us/step - loss: 1.4697 - accuracy: 0.4839 - val_loss: 1.5826 - val_accuracy: 0.4437\n",
      "Epoch 7/25\n",
      "50000/50000 [==============================] - 7s 141us/step - loss: 1.4318 - accuracy: 0.4979 - val_loss: 1.5524 - val_accuracy: 0.4504\n",
      "Epoch 8/25\n",
      "50000/50000 [==============================] - 7s 144us/step - loss: 1.4000 - accuracy: 0.5106 - val_loss: 1.5397 - val_accuracy: 0.4542\n",
      "Epoch 9/25\n",
      "50000/50000 [==============================] - 7s 147us/step - loss: 1.3696 - accuracy: 0.5223 - val_loss: 1.5246 - val_accuracy: 0.4617\n",
      "Epoch 10/25\n",
      "50000/50000 [==============================] - 8s 152us/step - loss: 1.3426 - accuracy: 0.5312 - val_loss: 1.5038 - val_accuracy: 0.4714\n",
      "Epoch 11/25\n",
      "50000/50000 [==============================] - 10s 207us/step - loss: 1.3174 - accuracy: 0.5411 - val_loss: 1.4927 - val_accuracy: 0.4715\n",
      "Epoch 12/25\n",
      "50000/50000 [==============================] - 10s 199us/step - loss: 1.2936 - accuracy: 0.5501 - val_loss: 1.4853 - val_accuracy: 0.4695\n",
      "Epoch 13/25\n",
      "50000/50000 [==============================] - 9s 173us/step - loss: 1.2701 - accuracy: 0.5599 - val_loss: 1.4688 - val_accuracy: 0.4833\n",
      "Epoch 14/25\n",
      "50000/50000 [==============================] - 10s 209us/step - loss: 1.2488 - accuracy: 0.5661 - val_loss: 1.4694 - val_accuracy: 0.4814\n",
      "Epoch 15/25\n",
      "50000/50000 [==============================] - 9s 182us/step - loss: 1.2273 - accuracy: 0.5751 - val_loss: 1.4663 - val_accuracy: 0.4818\n",
      "Epoch 16/25\n",
      "50000/50000 [==============================] - 9s 188us/step - loss: 1.2074 - accuracy: 0.5825 - val_loss: 1.4691 - val_accuracy: 0.4783\n",
      "Epoch 17/25\n",
      "50000/50000 [==============================] - 9s 189us/step - loss: 1.1877 - accuracy: 0.5901 - val_loss: 1.4629 - val_accuracy: 0.4856\n",
      "Epoch 18/25\n",
      "50000/50000 [==============================] - 9s 186us/step - loss: 1.1690 - accuracy: 0.5957 - val_loss: 1.4724 - val_accuracy: 0.4841\n",
      "Epoch 19/25\n",
      "50000/50000 [==============================] - 10s 193us/step - loss: 1.1519 - accuracy: 0.6036 - val_loss: 1.4562 - val_accuracy: 0.4850\n",
      "Epoch 20/25\n",
      "50000/50000 [==============================] - 10s 195us/step - loss: 1.1321 - accuracy: 0.6097 - val_loss: 1.4527 - val_accuracy: 0.4915\n",
      "Epoch 21/25\n",
      "50000/50000 [==============================] - 11s 226us/step - loss: 1.1154 - accuracy: 0.6156 - val_loss: 1.4567 - val_accuracy: 0.4912\n",
      "Epoch 22/25\n",
      "50000/50000 [==============================] - 9s 188us/step - loss: 1.0985 - accuracy: 0.6235 - val_loss: 1.4565 - val_accuracy: 0.4880\n",
      "Epoch 23/25\n",
      "50000/50000 [==============================] - 13s 266us/step - loss: 1.0825 - accuracy: 0.6286 - val_loss: 1.4525 - val_accuracy: 0.4920\n",
      "Epoch 24/25\n",
      "50000/50000 [==============================] - 8s 170us/step - loss: 1.0649 - accuracy: 0.6350 - val_loss: 1.4582 - val_accuracy: 0.4893\n",
      "Epoch 25/25\n",
      "50000/50000 [==============================] - 10s 203us/step - loss: 1.0489 - accuracy: 0.6414 - val_loss: 1.4460 - val_accuracy: 0.4946\n"
     ]
    },
    {
     "data": {
      "text/plain": [
       "'\\n將 tp/tn 從訓練完的模型中取出\\n'"
      ]
     },
     "execution_count": 23,
     "metadata": {},
     "output_type": "execute_result"
    }
   ],
   "source": [
    "model = build_mlp(input_shape=x_train.shape[1:])\n",
    "model.summary()\n",
    "optimizer = keras.optimizers.SGD(lr=LEARNING_RATE, nesterov=True, momentum=MOMENTUM)\n",
    "model.compile(loss=\"categorical_crossentropy\", metrics=[\"accuracy\"], optimizer=optimizer)\n",
    "\n",
    "model.fit(x_train, y_train, \n",
    "          epochs=EPOCHS, \n",
    "          batch_size=BATCH_SIZE, \n",
    "          validation_data=(x_test, y_test), \n",
    "          shuffle=True,\n",
    "          callbacks=[rec_tptn]\n",
    "         )\n",
    "\n",
    "# Collect results\n",
    "train_loss = model.history.history[\"loss\"]\n",
    "valid_loss = model.history.history[\"val_loss\"]\n",
    "train_acc = model.history.history[\"accuracy\"]\n",
    "valid_acc = model.history.history[\"val_accuracy\"]\n",
    "\n",
    "\"\"\"\n",
    "將 tp/tn 從訓練完的模型中取出\n",
    "\"\"\"\n",
    "# valid_tp = model.history.history['val_tp']\n",
    "# valid_tn = model.history.history['val_tn']"
   ]
  },
  {
   "cell_type": "code",
   "execution_count": 42,
   "metadata": {},
   "outputs": [],
   "source": [
    "valid_tp = []\n",
    "valid_tn = []\n",
    "for i in range(25):\n",
    "    valid_tp.append(rec_tptn.cm[i][0].ravel()[3])\n",
    "    valid_tn.append(rec_tptn.cm[i][0].ravel()[0])"
   ]
  },
  {
   "cell_type": "code",
   "execution_count": 43,
   "metadata": {},
   "outputs": [
    {
     "data": {
      "image/png": "[encoded data removed]",
      "text/plain": [
       "<Figure size 432x288 with 1 Axes>"
      ]
     },
     "metadata": {
      "needs_background": "light"
     },
     "output_type": "display_data"
    },
    {
     "data": {
      "image/png": "[encoded data removed]",
      "text/plain": [
       "<Figure size 432x288 with 1 Axes>"
      ]
     },
     "metadata": {
      "needs_background": "light"
     },
     "output_type": "display_data"
    },
    {
     "data": {
      "image/png": "[encoded data removed]",
      "text/plain": [
       "<Figure size 432x288 with 1 Axes>"
      ]
     },
     "metadata": {
      "needs_background": "light"
     },
     "output_type": "display_data"
    }
   ],
   "source": [
    "import matplotlib.pyplot as plt\n",
    "%matplotlib inline\n",
    "\n",
    "plt.plot(range(len(train_loss)), train_loss, label=\"train loss\")\n",
    "plt.plot(range(len(valid_loss)), valid_loss, label=\"valid loss\")\n",
    "plt.legend()\n",
    "plt.title(\"Loss\")\n",
    "plt.show()\n",
    "\n",
    "plt.plot(range(len(train_acc)), train_acc, label=\"train accuracy\")\n",
    "plt.plot(range(len(valid_acc)), valid_acc, label=\"valid accuracy\")\n",
    "plt.legend()\n",
    "plt.title(\"Accuracy\")\n",
    "plt.show()\n",
    "\n",
    "plt.plot(range(len(valid_tp)), valid_tp, label=\"valid tp\", color=\"navy\")\n",
    "plt.plot(range(len(valid_tn)), valid_tn, label=\"valid tn\", color=\"red\")\n",
    "plt.legend()\n",
    "plt.title(\"True positives and True Negatives\")\n",
    "plt.show()\n"
   ]
  }
 ],
 "metadata": {
  "kernelspec": {
   "display_name": "Python 3",
   "language": "python",
   "name": "python3"
  },
  "language_info": {
   "codemirror_mode": {
    "name": "ipython",
    "version": 3
   },
   "file_extension": ".py",
   "mimetype": "text/x-python",
   "name": "python",
   "nbconvert_exporter": "python",
   "pygments_lexer": "ipython3",
   "version": "3.7.3"
  }
 },
 "nbformat": 4,
 "nbformat_minor": 2
}
