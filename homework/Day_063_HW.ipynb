{
 "cells": [
  {
   "cell_type": "markdown",
   "metadata": {},
   "source": [
    "# 作業\n",
    "* 在精簡深度學習的方式上 : 卷積類神經 (CNN) 採用像素遠近，而遞歸類神經 (RNN) 採用著則是時間遠近\n",
    "* 那麼，既然有著類似的設計精神，兩者是否有可能互換應用呢?"
   ]
  },
  {
   "cell_type": "markdown",
   "metadata": {
    "collapsed": true
   },
   "source": [
    "#### 照理來說不可，因為CNN是前傳遞類型之模型，而RNN是遞迴傳遞之模型；CNN利於判斷像素遠近、RNN利於判斷時間遠近。\n",
    "\n",
    "#### 但機器學習中，RNN帶來無限長輸入值之好處，在實戰中並不存在，反而是CNN這種錢傳遞模型更為輕便、易於執行，但如何用CNN取代甚至超越RNN都還在理論階段，故我認為現階段還是各有千秋並同時被DL所需要著。"
   ]
  }
 ],
 "metadata": {
  "kernelspec": {
   "display_name": "Python 3",
   "language": "python",
   "name": "python3"
  },
  "language_info": {
   "codemirror_mode": {
    "name": "ipython",
    "version": 3
   },
   "file_extension": ".py",
   "mimetype": "text/x-python",
   "name": "python",
   "nbconvert_exporter": "python",
   "pygments_lexer": "ipython3",
   "version": "3.7.3"
  }
 },
 "nbformat": 4,
 "nbformat_minor": 2
}
