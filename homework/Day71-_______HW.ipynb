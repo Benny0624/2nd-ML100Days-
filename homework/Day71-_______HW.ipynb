{
 "cells": [
  {
   "cell_type": "markdown",
   "metadata": {
    "colab_type": "text",
    "id": "cj4tE8e8iUtO"
   },
   "source": [
    "#   \n",
    "\n",
    "# 作業目標:\n",
    "\n",
    "    1. 藉由固定的 dataset, 來驗證不同loss function\n",
    "    2. Dataset 的特性跟我們選用的loss function 對accrancy 的影響\n",
    "    \n",
    "    \n",
    "# 作業重點: \n",
    "    請分別選用 \"MSE\", \"binary _crossentropy\"\n",
    "    查看Train/test accurancy and loss rate\n",
    "    "
   ]
  },
  {
   "cell_type": "markdown",
   "metadata": {
    "colab_type": "text",
    "id": "R51J4KyyiUsL"
   },
   "source": [
    "# 導入必要的函數"
   ]
  },
  {
   "cell_type": "code",
   "execution_count": 3,
   "metadata": {
    "colab": {},
    "colab_type": "code",
    "id": "Qd68OQjciUsM"
   },
   "outputs": [],
   "source": [
    "from keras.datasets import cifar10\n",
    "import numpy as np\n",
    "np.random.seed(10)"
   ]
  },
  {
   "cell_type": "markdown",
   "metadata": {
    "colab_type": "text",
    "id": "GxKuzQLQiUsP"
   },
   "source": [
    "# 資料準備"
   ]
  },
  {
   "cell_type": "code",
   "execution_count": 4,
   "metadata": {
    "colab": {},
    "colab_type": "code",
    "id": "MIbFZdTCiUsQ"
   },
   "outputs": [],
   "source": [
    "#取得Keras Dataset\n",
    "(x_img_train,y_label_train),(x_img_test,y_label_test)=cifar10.load_data()"
   ]
  },
  {
   "cell_type": "code",
   "execution_count": 5,
   "metadata": {
    "colab": {},
    "colab_type": "code",
    "id": "J8CJVjNOiUsS"
   },
   "outputs": [
    {
     "name": "stdout",
     "output_type": "stream",
     "text": [
      "train data: images: (50000, 32, 32, 3)  labels: (50000, 1)\n",
      "test  data: images: (10000, 32, 32, 3)  labels: (10000, 1)\n"
     ]
    }
   ],
   "source": [
    "#確認 CIFAR10 Dataset 資料維度\n",
    "print(\"train data:\",'images:',x_img_train.shape,\n",
    "      \" labels:\",y_label_train.shape) \n",
    "print(\"test  data:\",'images:',x_img_test.shape ,\n",
    "      \" labels:\",y_label_test.shape) "
   ]
  },
  {
   "cell_type": "code",
   "execution_count": 6,
   "metadata": {
    "colab": {},
    "colab_type": "code",
    "id": "V3P6P4DXiUsV"
   },
   "outputs": [],
   "source": [
    "#資料正規化\n",
    "x_img_train_normalize = x_img_train.astype('float32') / 255.0\n",
    "x_img_test_normalize = x_img_test.astype('float32') / 255.0"
   ]
  },
  {
   "cell_type": "code",
   "execution_count": 7,
   "metadata": {
    "colab": {},
    "colab_type": "code",
    "id": "vsDyjKYliUsX"
   },
   "outputs": [
    {
     "data": {
      "text/plain": [
       "(10000, 10)"
      ]
     },
     "execution_count": 7,
     "metadata": {},
     "output_type": "execute_result"
    }
   ],
   "source": [
    "#針對Label 做 ONE HOT ENCODE\n",
    "from keras.utils import np_utils\n",
    "y_label_train_OneHot = np_utils.to_categorical(y_label_train)\n",
    "y_label_test_OneHot = np_utils.to_categorical(y_label_test)\n",
    "y_label_test_OneHot.shape"
   ]
  },
  {
   "cell_type": "markdown",
   "metadata": {
    "colab_type": "text",
    "id": "RutW2OtgiUsZ"
   },
   "source": [
    "# 建立模型"
   ]
  },
  {
   "cell_type": "code",
   "execution_count": 1,
   "metadata": {
    "colab": {},
    "colab_type": "code",
    "id": "aHz592aXiUsa"
   },
   "outputs": [
    {
     "name": "stderr",
     "output_type": "stream",
     "text": [
      "Using TensorFlow backend.\n"
     ]
    }
   ],
   "source": [
    "from keras.models import Sequential\n",
    "from keras.layers import Dense, Dropout, Activation, Flatten\n",
    "from keras.layers import Conv2D, MaxPooling2D, ZeroPadding2D"
   ]
  },
  {
   "cell_type": "code",
   "execution_count": 2,
   "metadata": {
    "colab": {},
    "colab_type": "code",
    "id": "hslqrIp0iUse"
   },
   "outputs": [
    {
     "name": "stderr",
     "output_type": "stream",
     "text": [
      "WARNING: Logging before flag parsing goes to stderr.\n",
      "W0908 12:17:30.363969 60540 deprecation_wrapper.py:119] From C:\\Users\\veryv\\Anaconda3\\lib\\site-packages\\keras\\backend\\tensorflow_backend.py:74: The name tf.get_default_graph is deprecated. Please use tf.compat.v1.get_default_graph instead.\n",
      "\n"
     ]
    }
   ],
   "source": [
    "model = Sequential()"
   ]
  },
  {
   "cell_type": "code",
   "execution_count": 8,
   "metadata": {
    "colab": {},
    "colab_type": "code",
    "id": "Hqe35hs2iUsi"
   },
   "outputs": [
    {
     "name": "stderr",
     "output_type": "stream",
     "text": [
      "W0908 12:22:38.796898 60540 deprecation_wrapper.py:119] From C:\\Users\\veryv\\Anaconda3\\lib\\site-packages\\keras\\backend\\tensorflow_backend.py:517: The name tf.placeholder is deprecated. Please use tf.compat.v1.placeholder instead.\n",
      "\n",
      "W0908 12:22:40.178024 60540 deprecation_wrapper.py:119] From C:\\Users\\veryv\\Anaconda3\\lib\\site-packages\\keras\\backend\\tensorflow_backend.py:4138: The name tf.random_uniform is deprecated. Please use tf.random.uniform instead.\n",
      "\n"
     ]
    }
   ],
   "source": [
    "#卷積層1\n",
    "model.add(Conv2D(filters=32,kernel_size=(3,3),\n",
    "                 input_shape=(32, 32,3), \n",
    "                 activation='relu', \n",
    "                 padding='same'))"
   ]
  },
  {
   "cell_type": "code",
   "execution_count": 9,
   "metadata": {
    "colab": {},
    "colab_type": "code",
    "id": "n-GRKmPViUso",
    "scrolled": true
   },
   "outputs": [
    {
     "name": "stderr",
     "output_type": "stream",
     "text": [
      "W0908 12:22:42.855320 60540 deprecation_wrapper.py:119] From C:\\Users\\veryv\\Anaconda3\\lib\\site-packages\\keras\\backend\\tensorflow_backend.py:133: The name tf.placeholder_with_default is deprecated. Please use tf.compat.v1.placeholder_with_default instead.\n",
      "\n",
      "W0908 12:22:43.143974 60540 deprecation.py:506] From C:\\Users\\veryv\\Anaconda3\\lib\\site-packages\\keras\\backend\\tensorflow_backend.py:3445: calling dropout (from tensorflow.python.ops.nn_ops) with keep_prob is deprecated and will be removed in a future version.\n",
      "Instructions for updating:\n",
      "Please use `rate` instead of `keep_prob`. Rate should be set to `rate = 1 - keep_prob`.\n"
     ]
    }
   ],
   "source": [
    "model.add(Dropout(rate=0.25))"
   ]
  },
  {
   "cell_type": "code",
   "execution_count": 10,
   "metadata": {
    "colab": {},
    "colab_type": "code",
    "id": "GlWnnD1uiUsw"
   },
   "outputs": [
    {
     "name": "stderr",
     "output_type": "stream",
     "text": [
      "W0908 12:22:45.908098 60540 deprecation_wrapper.py:119] From C:\\Users\\veryv\\Anaconda3\\lib\\site-packages\\keras\\backend\\tensorflow_backend.py:3976: The name tf.nn.max_pool is deprecated. Please use tf.nn.max_pool2d instead.\n",
      "\n"
     ]
    }
   ],
   "source": [
    "model.add(MaxPooling2D(pool_size=(2, 2)))"
   ]
  },
  {
   "cell_type": "code",
   "execution_count": 11,
   "metadata": {
    "colab": {},
    "colab_type": "code",
    "id": "nawlkt55iUsy"
   },
   "outputs": [],
   "source": [
    "#卷積層2與池化層2\n",
    "model.add(Conv2D(filters=64, kernel_size=(3, 3), \n",
    "                 activation='relu', padding='same'))"
   ]
  },
  {
   "cell_type": "code",
   "execution_count": 12,
   "metadata": {
    "colab": {},
    "colab_type": "code",
    "id": "RqcKWtqGiUs2"
   },
   "outputs": [],
   "source": [
    "model.add(Dropout(0.25))"
   ]
  },
  {
   "cell_type": "code",
   "execution_count": 13,
   "metadata": {
    "colab": {},
    "colab_type": "code",
    "id": "BUOOzlqfiUs4"
   },
   "outputs": [],
   "source": [
    "model.add(MaxPooling2D(pool_size=(2, 2)))"
   ]
  },
  {
   "cell_type": "code",
   "execution_count": 14,
   "metadata": {
    "colab": {},
    "colab_type": "code",
    "id": "LpkppB2siUs7"
   },
   "outputs": [],
   "source": [
    "#建立神經網路(平坦層、隱藏層、輸出層)\n",
    "model.add(Flatten())\n",
    "model.add(Dropout(rate=0.25))\n",
    "model.add(Dense(1024, activation='relu'))\n",
    "model.add(Dropout(rate=0.25))\n",
    "model.add(Dense(10, activation='softmax'))"
   ]
  },
  {
   "cell_type": "code",
   "execution_count": 15,
   "metadata": {
    "colab": {},
    "colab_type": "code",
    "id": "ZxzRIjR0iUtH"
   },
   "outputs": [
    {
     "name": "stdout",
     "output_type": "stream",
     "text": [
      "_________________________________________________________________\n",
      "Layer (type)                 Output Shape              Param #   \n",
      "=================================================================\n",
      "conv2d_1 (Conv2D)            (None, 32, 32, 32)        896       \n",
      "_________________________________________________________________\n",
      "dropout_1 (Dropout)          (None, 32, 32, 32)        0         \n",
      "_________________________________________________________________\n",
      "max_pooling2d_1 (MaxPooling2 (None, 16, 16, 32)        0         \n",
      "_________________________________________________________________\n",
      "conv2d_2 (Conv2D)            (None, 16, 16, 64)        18496     \n",
      "_________________________________________________________________\n",
      "dropout_2 (Dropout)          (None, 16, 16, 64)        0         \n",
      "_________________________________________________________________\n",
      "max_pooling2d_2 (MaxPooling2 (None, 8, 8, 64)          0         \n",
      "_________________________________________________________________\n",
      "flatten_1 (Flatten)          (None, 4096)              0         \n",
      "_________________________________________________________________\n",
      "dropout_3 (Dropout)          (None, 4096)              0         \n",
      "_________________________________________________________________\n",
      "dense_1 (Dense)              (None, 1024)              4195328   \n",
      "_________________________________________________________________\n",
      "dropout_4 (Dropout)          (None, 1024)              0         \n",
      "_________________________________________________________________\n",
      "dense_2 (Dense)              (None, 10)                10250     \n",
      "=================================================================\n",
      "Total params: 4,224,970\n",
      "Trainable params: 4,224,970\n",
      "Non-trainable params: 0\n",
      "_________________________________________________________________\n",
      "None\n"
     ]
    }
   ],
   "source": [
    "#檢查model 的STACK\n",
    "print(model.summary())"
   ]
  },
  {
   "cell_type": "markdown",
   "metadata": {
    "colab_type": "text",
    "id": "QJCtpJM0iUtJ"
   },
   "source": [
    "# 載入之前訓練的模型"
   ]
  },
  {
   "cell_type": "code",
   "execution_count": 17,
   "metadata": {
    "colab": {},
    "colab_type": "code",
    "id": "JU3A6NzQiUtK"
   },
   "outputs": [
    {
     "name": "stdout",
     "output_type": "stream",
     "text": [
      "載入模型失敗!開始訓練一個新模型\n"
     ]
    }
   ],
   "source": [
    "try:\n",
    "    model.load_weights(\"SaveModel/cifarCnnModel.h5\")\n",
    "    print(\"載入模型成功!繼續訓練模型\")\n",
    "except :    \n",
    "    print(\"載入模型失敗!開始訓練一個新模型\")"
   ]
  },
  {
   "cell_type": "markdown",
   "metadata": {
    "colab_type": "text",
    "id": "qBbCuziziUtM"
   },
   "source": [
    "# 訓練模型"
   ]
  },
  {
   "cell_type": "code",
   "execution_count": 18,
   "metadata": {
    "colab": {},
    "colab_type": "code",
    "id": "Q6BiBcseiUtP"
   },
   "outputs": [
    {
     "name": "stderr",
     "output_type": "stream",
     "text": [
      "W0908 12:33:43.000798 60540 deprecation_wrapper.py:119] From C:\\Users\\veryv\\Anaconda3\\lib\\site-packages\\keras\\optimizers.py:790: The name tf.train.Optimizer is deprecated. Please use tf.compat.v1.train.Optimizer instead.\n",
      "\n",
      "W0908 12:33:43.334888 60540 deprecation_wrapper.py:119] From C:\\Users\\veryv\\Anaconda3\\lib\\site-packages\\keras\\backend\\tensorflow_backend.py:3295: The name tf.log is deprecated. Please use tf.math.log instead.\n",
      "\n",
      "W0908 12:33:48.816179 60540 deprecation.py:323] From C:\\Users\\veryv\\Anaconda3\\lib\\site-packages\\tensorflow\\python\\ops\\math_grad.py:1250: add_dispatch_support.<locals>.wrapper (from tensorflow.python.ops.array_ops) is deprecated and will be removed in a future version.\n",
      "Instructions for updating:\n",
      "Use tf.where in 2.0, which has the same broadcast rule as np.where\n"
     ]
    },
    {
     "name": "stdout",
     "output_type": "stream",
     "text": [
      "Train on 37500 samples, validate on 12500 samples\n",
      "Epoch 1/12\n",
      "37500/37500 [==============================] - 290s 8ms/step - loss: 2.1647 - acc: 0.1980 - val_loss: 2.0505 - val_acc: 0.2962\n",
      "Epoch 2/12\n",
      "37500/37500 [==============================] - 138s 4ms/step - loss: 1.9546 - acc: 0.2964 - val_loss: 1.9342 - val_acc: 0.3476\n",
      "Epoch 3/12\n",
      "37500/37500 [==============================] - 142s 4ms/step - loss: 1.8337 - acc: 0.3469 - val_loss: 1.8411 - val_acc: 0.3813\n",
      "Epoch 4/12\n",
      "37500/37500 [==============================] - 137s 4ms/step - loss: 1.7305 - acc: 0.3814 - val_loss: 1.7484 - val_acc: 0.4165\n",
      "Epoch 5/12\n",
      "37500/37500 [==============================] - 137s 4ms/step - loss: 1.6496 - acc: 0.4103 - val_loss: 1.6790 - val_acc: 0.4394\n",
      "Epoch 6/12\n",
      "37500/37500 [==============================] - 136s 4ms/step - loss: 1.5853 - acc: 0.4308 - val_loss: 1.6479 - val_acc: 0.4525\n",
      "Epoch 7/12\n",
      "37500/37500 [==============================] - 134s 4ms/step - loss: 1.5306 - acc: 0.4541 - val_loss: 1.5854 - val_acc: 0.4763\n",
      "Epoch 8/12\n",
      "37500/37500 [==============================] - 132s 4ms/step - loss: 1.4842 - acc: 0.4680 - val_loss: 1.5319 - val_acc: 0.4873\n",
      "Epoch 9/12\n",
      "37500/37500 [==============================] - 133s 4ms/step - loss: 1.4448 - acc: 0.4830 - val_loss: 1.4738 - val_acc: 0.5142\n",
      "Epoch 10/12\n",
      "37500/37500 [==============================] - 136s 4ms/step - loss: 1.4098 - acc: 0.4942 - val_loss: 1.4467 - val_acc: 0.5247\n",
      "Epoch 11/12\n",
      "37500/37500 [==============================] - 133s 4ms/step - loss: 1.3805 - acc: 0.5064 - val_loss: 1.4369 - val_acc: 0.5376\n",
      "Epoch 12/12\n",
      "37500/37500 [==============================] - 132s 4ms/step - loss: 1.3487 - acc: 0.5224 - val_loss: 1.4055 - val_acc: 0.5393\n"
     ]
    },
    {
     "data": {
      "text/plain": [
       "'\\n作業:\\n請分別選用 \"MSE\", \"binary _crossentropy\"\\n查看Train/test accurancy and loss rate\\n'"
      ]
     },
     "execution_count": 18,
     "metadata": {},
     "output_type": "execute_result"
    }
   ],
   "source": [
    "model.compile(loss='categorical_crossentropy', optimizer='sgd', metrics=['accuracy'])\n",
    "train_history=model.fit(x_img_train_normalize, y_label_train_OneHot,\n",
    "                        validation_split=0.25,\n",
    "                        epochs=12, batch_size=128, verbose=1)\n",
    "'''\n",
    "作業:\n",
    "請分別選用 \"MSE\", \"binary_crossentropy\"\n",
    "查看Train/test accurancy and loss rate\n",
    "\n",
    "'''"
   ]
  },
  {
   "cell_type": "code",
   "execution_count": 19,
   "metadata": {
    "colab": {},
    "colab_type": "code",
    "id": "4-GdDgmQiUtS"
   },
   "outputs": [
    {
     "name": "stdout",
     "output_type": "stream",
     "text": [
      "Train on 37500 samples, validate on 12500 samples\n",
      "Epoch 1/12\n",
      "37500/37500 [==============================] - 142s 4ms/step - loss: 0.2048 - acc: 0.9195 - val_loss: 0.2140 - val_acc: 0.9143\n",
      "Epoch 2/12\n",
      "37500/37500 [==============================] - 135s 4ms/step - loss: 0.2039 - acc: 0.9200 - val_loss: 0.2129 - val_acc: 0.9151\n",
      "Epoch 3/12\n",
      "37500/37500 [==============================] - 134s 4ms/step - loss: 0.2035 - acc: 0.9200 - val_loss: 0.2121 - val_acc: 0.9152\n",
      "Epoch 4/12\n",
      "37500/37500 [==============================] - 138s 4ms/step - loss: 0.2024 - acc: 0.9203 - val_loss: 0.2119 - val_acc: 0.9152\n",
      "Epoch 5/12\n",
      "37500/37500 [==============================] - 135s 4ms/step - loss: 0.2019 - acc: 0.9204 - val_loss: 0.2110 - val_acc: 0.9159\n",
      "Epoch 6/12\n",
      "37500/37500 [==============================] - 136s 4ms/step - loss: 0.2017 - acc: 0.9207 - val_loss: 0.2108 - val_acc: 0.9163\n",
      "Epoch 7/12\n",
      "37500/37500 [==============================] - 142s 4ms/step - loss: 0.2016 - acc: 0.9207 - val_loss: 0.2101 - val_acc: 0.9161\n",
      "Epoch 8/12\n",
      "37500/37500 [==============================] - 137s 4ms/step - loss: 0.2009 - acc: 0.9210 - val_loss: 0.2103 - val_acc: 0.9160\n",
      "Epoch 9/12\n",
      "37500/37500 [==============================] - 136s 4ms/step - loss: 0.2001 - acc: 0.9213 - val_loss: 0.2093 - val_acc: 0.9165\n",
      "Epoch 10/12\n",
      "37500/37500 [==============================] - 134s 4ms/step - loss: 0.2000 - acc: 0.9213 - val_loss: 0.2092 - val_acc: 0.9165\n",
      "Epoch 11/12\n",
      "37500/37500 [==============================] - 131s 4ms/step - loss: 0.1991 - acc: 0.9216 - val_loss: 0.2089 - val_acc: 0.9164\n",
      "Epoch 12/12\n",
      "37500/37500 [==============================] - 131s 4ms/step - loss: 0.1985 - acc: 0.9220 - val_loss: 0.2084 - val_acc: 0.9166\n"
     ]
    }
   ],
   "source": [
    "model.compile(loss='binary_crossentropy', optimizer='sgd', metrics=['accuracy'])\n",
    "train_history=model.fit(x_img_train_normalize, y_label_train_OneHot,\n",
    "                        validation_split=0.25,\n",
    "                        epochs=12, batch_size=128, verbose=1)"
   ]
  },
  {
   "cell_type": "code",
   "execution_count": 20,
   "metadata": {},
   "outputs": [
    {
     "name": "stdout",
     "output_type": "stream",
     "text": [
      "Train on 37500 samples, validate on 12500 samples\n",
      "Epoch 1/12\n",
      "37500/37500 [==============================] - 476s 13ms/step - loss: 0.0585 - acc: 0.5499 - val_loss: 0.0609 - val_acc: 0.5667\n",
      "Epoch 2/12\n",
      "37500/37500 [==============================] - 133s 4ms/step - loss: 0.0584 - acc: 0.5513 - val_loss: 0.0608 - val_acc: 0.5665\n",
      "Epoch 3/12\n",
      "37500/37500 [==============================] - 131s 4ms/step - loss: 0.0582 - acc: 0.5526 - val_loss: 0.0607 - val_acc: 0.5677\n",
      "Epoch 4/12\n",
      "37500/37500 [==============================] - 135s 4ms/step - loss: 0.0586 - acc: 0.5474 - val_loss: 0.0607 - val_acc: 0.5680\n",
      "Epoch 5/12\n",
      "37500/37500 [==============================] - 130s 3ms/step - loss: 0.0582 - acc: 0.5538 - val_loss: 0.0606 - val_acc: 0.5690\n",
      "Epoch 6/12\n",
      "37500/37500 [==============================] - 131s 4ms/step - loss: 0.0583 - acc: 0.5525 - val_loss: 0.0606 - val_acc: 0.5691\n",
      "Epoch 7/12\n",
      "37500/37500 [==============================] - 130s 3ms/step - loss: 0.0581 - acc: 0.5540 - val_loss: 0.0605 - val_acc: 0.5693\n",
      "Epoch 8/12\n",
      "37500/37500 [==============================] - 133s 4ms/step - loss: 0.0581 - acc: 0.5543 - val_loss: 0.0605 - val_acc: 0.5695\n",
      "Epoch 9/12\n",
      "37500/37500 [==============================] - 150s 4ms/step - loss: 0.0581 - acc: 0.5538 - val_loss: 0.0605 - val_acc: 0.5697\n",
      "Epoch 10/12\n",
      "37500/37500 [==============================] - 142s 4ms/step - loss: 0.0579 - acc: 0.5562 - val_loss: 0.0604 - val_acc: 0.5706\n",
      "Epoch 11/12\n",
      "37500/37500 [==============================] - 171s 5ms/step - loss: 0.0578 - acc: 0.5562 - val_loss: 0.0604 - val_acc: 0.5706\n",
      "Epoch 12/12\n",
      "37500/37500 [==============================] - 178s 5ms/step - loss: 0.0580 - acc: 0.5533 - val_loss: 0.0604 - val_acc: 0.5703\n"
     ]
    }
   ],
   "source": [
    "model.compile(loss='MSE', optimizer='sgd', metrics=['accuracy'])\n",
    "train_history=model.fit(x_img_train_normalize, y_label_train_OneHot,\n",
    "                        validation_split=0.25,\n",
    "                        epochs=12, batch_size=128, verbose=1)"
   ]
  }
 ],
 "metadata": {
  "colab": {
   "name": "Day71-使用損失函數_HW.ipynb",
   "provenance": [],
   "version": "0.3.2"
  },
  "kernelspec": {
   "display_name": "Python 3",
   "language": "python",
   "name": "python3"
  },
  "language_info": {
   "codemirror_mode": {
    "name": "ipython",
    "version": 3
   },
   "file_extension": ".py",
   "mimetype": "text/x-python",
   "name": "python",
   "nbconvert_exporter": "python",
   "pygments_lexer": "ipython3",
   "version": "3.7.3"
  }
 },
 "nbformat": 4,
 "nbformat_minor": 1
}
