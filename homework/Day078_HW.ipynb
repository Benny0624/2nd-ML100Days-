{
 "cells": [
  {
   "cell_type": "markdown",
   "metadata": {},
   "source": [
    "## Work\n",
    "1. 請嘗試將 preproc_x 替換成以每筆資料的 min/max 進行標準化至 -1 ~ 1 間，再進行訓練\n",
    "2. 請嘗試將 mlp 疊更深 (e.g 5~10 層)，進行訓練後觀察 learning curve 的走勢\n",
    "3. (optional) 請改用 GPU 進行訓練 (如果你有 GPU 的話)，比較使用 CPU 與 GPU 的訓練速度"
   ]
  },
  {
   "attachments": {
    "image.png": {
     "image/png": "[encoded data removed]"
    }
   },
   "cell_type": "markdown",
   "metadata": {},
   "source": [
    "![image.png](attachment:image.png)"
   ]
  },
  {
   "cell_type": "code",
   "execution_count": 1,
   "metadata": {},
   "outputs": [],
   "source": [
    "## 確認硬體資源\n",
    "!nvidia-smi"
   ]
  },
  {
   "cell_type": "code",
   "execution_count": 1,
   "metadata": {
    "scrolled": true
   },
   "outputs": [
    {
     "name": "stderr",
     "output_type": "stream",
     "text": [
      "Using TensorFlow backend.\n"
     ]
    }
   ],
   "source": [
    "import os\n",
    "import keras\n",
    "\n",
    "# 請嘗試設定 GPU：os.environ\n"
   ]
  },
  {
   "cell_type": "code",
   "execution_count": 2,
   "metadata": {},
   "outputs": [],
   "source": [
    "train, test = keras.datasets.cifar10.load_data()"
   ]
  },
  {
   "cell_type": "code",
   "execution_count": 56,
   "metadata": {},
   "outputs": [],
   "source": [
    "## 資料前處理\n",
    "def preproc_x(x, flatten=True):\n",
    "    maxs_x = np.max(x)\n",
    "    mins_x = np.min(x)\n",
    "    x = 2 * ((x - mins_x) / (maxs_x - mins_x)) -1\n",
    "    if flatten:\n",
    "        x = x.reshape((len(x), -1))\n",
    "    return x    \n",
    "\n",
    "def preproc_y(y, num_classes=10):\n",
    "    if y.shape[-1] == 1:\n",
    "        y = keras.utils.to_categorical(y, num_classes)\n",
    "    return y "
   ]
  },
  {
   "cell_type": "code",
   "execution_count": 26,
   "metadata": {},
   "outputs": [
    {
     "data": {
      "text/plain": [
       "(50000, 3072)"
      ]
     },
     "execution_count": 26,
     "metadata": {},
     "output_type": "execute_result"
    }
   ],
   "source": [
    "x_train.reshape((len(x_train), -1)).shape"
   ]
  },
  {
   "cell_type": "code",
   "execution_count": 27,
   "metadata": {
    "scrolled": true
   },
   "outputs": [
    {
     "data": {
      "text/plain": [
       "(50000, 32, 32, 3)"
      ]
     },
     "execution_count": 27,
     "metadata": {},
     "output_type": "execute_result"
    }
   ],
   "source": [
    "x_train.shape"
   ]
  },
  {
   "cell_type": "code",
   "execution_count": 58,
   "metadata": {},
   "outputs": [],
   "source": [
    "x_train, y_train = train\n",
    "x_test, y_test = test\n",
    "\n",
    "# Preproc the inputs\n",
    "x_train = preproc_x(x_train)\n",
    "x_test = preproc_x(x_test)\n",
    "\n",
    "# Preprc the outputs\n",
    "y_train = preproc_y(y_train)\n",
    "y_test = preproc_y(y_test)"
   ]
  },
  {
   "cell_type": "code",
   "execution_count": 59,
   "metadata": {},
   "outputs": [],
   "source": [
    "def build_mlp(input_shape, output_units=10, num_neurons=[512, 256, 128, 64, 8]):\n",
    "    input_layer = keras.layers.Input(input_shape)\n",
    "    \n",
    "    for i, n_units in enumerate(num_neurons):\n",
    "        if i == 0:\n",
    "            x = keras.layers.Dense(units=n_units, activation=\"relu\", name=\"hidden_layer\"+str(i+1))(input_layer)\n",
    "        else:\n",
    "            x = keras.layers.Dense(units=n_units, activation=\"relu\", name=\"hidden_layer\"+str(i+1))(x)\n",
    "    \n",
    "    out = keras.layers.Dense(units=output_units, activation=\"softmax\", name=\"output\")(x)\n",
    "    \n",
    "    model = keras.models.Model(inputs=[input_layer], outputs=[out])\n",
    "    return model"
   ]
  },
  {
   "cell_type": "code",
   "execution_count": 60,
   "metadata": {},
   "outputs": [
    {
     "name": "stdout",
     "output_type": "stream",
     "text": [
      "Model: \"model_1\"\n",
      "_________________________________________________________________\n",
      "Layer (type)                 Output Shape              Param #   \n",
      "=================================================================\n",
      "input_1 (InputLayer)         (None, 3072)              0         \n",
      "_________________________________________________________________\n",
      "hidden_layer1 (Dense)        (None, 512)               1573376   \n",
      "_________________________________________________________________\n",
      "hidden_layer2 (Dense)        (None, 256)               131328    \n",
      "_________________________________________________________________\n",
      "hidden_layer3 (Dense)        (None, 128)               32896     \n",
      "_________________________________________________________________\n",
      "hidden_layer4 (Dense)        (None, 64)                8256      \n",
      "_________________________________________________________________\n",
      "hidden_layer5 (Dense)        (None, 8)                 520       \n",
      "_________________________________________________________________\n",
      "output (Dense)               (None, 10)                90        \n",
      "=================================================================\n",
      "Total params: 1,746,466\n",
      "Trainable params: 1,746,466\n",
      "Non-trainable params: 0\n",
      "_________________________________________________________________\n"
     ]
    }
   ],
   "source": [
    "model = build_mlp(input_shape=x_train.shape[1:])\n",
    "model.summary()"
   ]
  },
  {
   "cell_type": "code",
   "execution_count": 61,
   "metadata": {},
   "outputs": [],
   "source": [
    "## 超參數設定\n",
    "LEARNING_RATE = 0.001\n",
    "EPOCHS = 100\n",
    "BATCH_SIZE = 256"
   ]
  },
  {
   "cell_type": "code",
   "execution_count": 62,
   "metadata": {},
   "outputs": [],
   "source": [
    "optimizer = keras.optimizers.Adam(lr=LEARNING_RATE)\n",
    "model.compile(loss=\"categorical_crossentropy\", metrics=[\"accuracy\"], optimizer=optimizer)"
   ]
  },
  {
   "cell_type": "code",
   "execution_count": 63,
   "metadata": {},
   "outputs": [
    {
     "name": "stdout",
     "output_type": "stream",
     "text": [
      "Train on 50000 samples, validate on 10000 samples\n",
      "Epoch 1/100\n",
      "50000/50000 [==============================] - 21s 412us/step - loss: 1.9185 - accuracy: 0.3132 - val_loss: 1.7580 - val_accuracy: 0.3817\n",
      "Epoch 2/100\n",
      "50000/50000 [==============================] - 17s 336us/step - loss: 1.6202 - accuracy: 0.4285 - val_loss: 1.5339 - val_accuracy: 0.4660\n",
      "Epoch 3/100\n",
      "50000/50000 [==============================] - 16s 323us/step - loss: 1.4660 - accuracy: 0.4824 - val_loss: 1.4669 - val_accuracy: 0.4832\n",
      "Epoch 4/100\n",
      "50000/50000 [==============================] - 17s 335us/step - loss: 1.3550 - accuracy: 0.5224 - val_loss: 1.4121 - val_accuracy: 0.5067\n",
      "Epoch 5/100\n",
      "50000/50000 [==============================] - 17s 334us/step - loss: 1.2646 - accuracy: 0.5532 - val_loss: 1.3989 - val_accuracy: 0.5124\n",
      "Epoch 6/100\n",
      "50000/50000 [==============================] - 17s 341us/step - loss: 1.1833 - accuracy: 0.5791 - val_loss: 1.3923 - val_accuracy: 0.5190\n",
      "Epoch 7/100\n",
      "50000/50000 [==============================] - 17s 337us/step - loss: 1.1074 - accuracy: 0.6053 - val_loss: 1.3993 - val_accuracy: 0.5217\n",
      "Epoch 8/100\n",
      "50000/50000 [==============================] - 17s 338us/step - loss: 1.0407 - accuracy: 0.6299 - val_loss: 1.4271 - val_accuracy: 0.5230\n",
      "Epoch 9/100\n",
      "50000/50000 [==============================] - 17s 338us/step - loss: 0.9688 - accuracy: 0.6540 - val_loss: 1.4397 - val_accuracy: 0.5205\n",
      "Epoch 10/100\n",
      "50000/50000 [==============================] - 17s 342us/step - loss: 0.9018 - accuracy: 0.6783 - val_loss: 1.4738 - val_accuracy: 0.5357\n",
      "Epoch 11/100\n",
      "50000/50000 [==============================] - 18s 369us/step - loss: 0.8324 - accuracy: 0.7021 - val_loss: 1.4985 - val_accuracy: 0.5303\n",
      "Epoch 12/100\n",
      "50000/50000 [==============================] - 17s 348us/step - loss: 0.7720 - accuracy: 0.7221 - val_loss: 1.5840 - val_accuracy: 0.5344\n",
      "Epoch 13/100\n",
      "50000/50000 [==============================] - 17s 335us/step - loss: 0.7130 - accuracy: 0.7432 - val_loss: 1.6193 - val_accuracy: 0.5227\n",
      "Epoch 14/100\n",
      "50000/50000 [==============================] - 17s 338us/step - loss: 0.6557 - accuracy: 0.7624 - val_loss: 1.7303 - val_accuracy: 0.5243\n",
      "Epoch 15/100\n",
      "50000/50000 [==============================] - 18s 352us/step - loss: 0.5965 - accuracy: 0.7855 - val_loss: 1.8056 - val_accuracy: 0.5272\n",
      "Epoch 16/100\n",
      "50000/50000 [==============================] - 17s 339us/step - loss: 0.5410 - accuracy: 0.8040 - val_loss: 1.9200 - val_accuracy: 0.5245\n",
      "Epoch 17/100\n",
      "50000/50000 [==============================] - 17s 343us/step - loss: 0.5025 - accuracy: 0.8179 - val_loss: 1.9925 - val_accuracy: 0.5213\n",
      "Epoch 18/100\n",
      "50000/50000 [==============================] - 17s 338us/step - loss: 0.4736 - accuracy: 0.8289 - val_loss: 2.0284 - val_accuracy: 0.5305\n",
      "Epoch 19/100\n",
      "50000/50000 [==============================] - 17s 338us/step - loss: 0.4269 - accuracy: 0.8455 - val_loss: 2.1687 - val_accuracy: 0.5245\n",
      "Epoch 20/100\n",
      "50000/50000 [==============================] - 17s 338us/step - loss: 0.4056 - accuracy: 0.8539 - val_loss: 2.2748 - val_accuracy: 0.5282\n",
      "Epoch 21/100\n",
      "50000/50000 [==============================] - 17s 338us/step - loss: 0.3689 - accuracy: 0.8670 - val_loss: 2.4300 - val_accuracy: 0.5249\n",
      "Epoch 22/100\n",
      "50000/50000 [==============================] - 17s 341us/step - loss: 0.3530 - accuracy: 0.8726 - val_loss: 2.4679 - val_accuracy: 0.5166\n",
      "Epoch 23/100\n",
      "50000/50000 [==============================] - 19s 381us/step - loss: 0.3128 - accuracy: 0.8886 - val_loss: 2.5867 - val_accuracy: 0.5222\n",
      "Epoch 24/100\n",
      "50000/50000 [==============================] - 18s 357us/step - loss: 0.3055 - accuracy: 0.8906 - val_loss: 2.6694 - val_accuracy: 0.5173\n",
      "Epoch 25/100\n",
      "50000/50000 [==============================] - 17s 346us/step - loss: 0.2952 - accuracy: 0.8946 - val_loss: 2.8078 - val_accuracy: 0.5234\n",
      "Epoch 26/100\n",
      "50000/50000 [==============================] - 17s 341us/step - loss: 0.2731 - accuracy: 0.9020 - val_loss: 2.8698 - val_accuracy: 0.5223\n",
      "Epoch 27/100\n",
      "50000/50000 [==============================] - 17s 341us/step - loss: 0.2486 - accuracy: 0.9125 - val_loss: 2.9000 - val_accuracy: 0.5231\n",
      "Epoch 28/100\n",
      "50000/50000 [==============================] - 18s 351us/step - loss: 0.2336 - accuracy: 0.9184 - val_loss: 3.0291 - val_accuracy: 0.5132\n",
      "Epoch 29/100\n",
      "50000/50000 [==============================] - 17s 342us/step - loss: 0.2475 - accuracy: 0.9143 - val_loss: 3.0038 - val_accuracy: 0.5272\n",
      "Epoch 30/100\n",
      "50000/50000 [==============================] - 17s 342us/step - loss: 0.2157 - accuracy: 0.9257 - val_loss: 3.0897 - val_accuracy: 0.5202\n",
      "Epoch 31/100\n",
      "50000/50000 [==============================] - 17s 339us/step - loss: 0.1916 - accuracy: 0.9335 - val_loss: 3.2784 - val_accuracy: 0.5249\n",
      "Epoch 32/100\n",
      "50000/50000 [==============================] - 17s 347us/step - loss: 0.2006 - accuracy: 0.9317 - val_loss: 3.2170 - val_accuracy: 0.5215\n",
      "Epoch 33/100\n",
      "50000/50000 [==============================] - 17s 338us/step - loss: 0.1917 - accuracy: 0.9341 - val_loss: 3.5025 - val_accuracy: 0.5250\n",
      "Epoch 34/100\n",
      "50000/50000 [==============================] - 17s 338us/step - loss: 0.1849 - accuracy: 0.9351 - val_loss: 3.4754 - val_accuracy: 0.5185\n",
      "Epoch 35/100\n",
      "50000/50000 [==============================] - 17s 337us/step - loss: 0.1920 - accuracy: 0.9327 - val_loss: 3.5713 - val_accuracy: 0.5137\n",
      "Epoch 36/100\n",
      "50000/50000 [==============================] - 17s 332us/step - loss: 0.1739 - accuracy: 0.9411 - val_loss: 3.4407 - val_accuracy: 0.5187\n",
      "Epoch 37/100\n",
      "50000/50000 [==============================] - 17s 332us/step - loss: 0.1637 - accuracy: 0.9430 - val_loss: 3.6502 - val_accuracy: 0.5190\n",
      "Epoch 38/100\n",
      "50000/50000 [==============================] - 16s 324us/step - loss: 0.1608 - accuracy: 0.9451 - val_loss: 3.7621 - val_accuracy: 0.5183\n",
      "Epoch 39/100\n",
      "50000/50000 [==============================] - 16s 328us/step - loss: 0.1667 - accuracy: 0.9421 - val_loss: 3.7164 - val_accuracy: 0.5149\n",
      "Epoch 40/100\n",
      "50000/50000 [==============================] - 16s 325us/step - loss: 0.1388 - accuracy: 0.9517 - val_loss: 3.8527 - val_accuracy: 0.5215\n",
      "Epoch 41/100\n",
      "50000/50000 [==============================] - 16s 325us/step - loss: 0.1596 - accuracy: 0.9457 - val_loss: 3.7221 - val_accuracy: 0.5119\n",
      "Epoch 42/100\n",
      "50000/50000 [==============================] - 16s 323us/step - loss: 0.1512 - accuracy: 0.9480 - val_loss: 3.8163 - val_accuracy: 0.5153\n",
      "Epoch 43/100\n",
      "50000/50000 [==============================] - 16s 323us/step - loss: 0.1311 - accuracy: 0.9549 - val_loss: 4.0065 - val_accuracy: 0.5232\n",
      "Epoch 44/100\n",
      "50000/50000 [==============================] - 16s 322us/step - loss: 0.1412 - accuracy: 0.9520 - val_loss: 3.8756 - val_accuracy: 0.5242\n",
      "Epoch 45/100\n",
      "50000/50000 [==============================] - 16s 324us/step - loss: 0.1177 - accuracy: 0.9600 - val_loss: 4.1417 - val_accuracy: 0.5217\n",
      "Epoch 46/100\n",
      "50000/50000 [==============================] - 16s 326us/step - loss: 0.1401 - accuracy: 0.9538 - val_loss: 3.9620 - val_accuracy: 0.5191\n",
      "Epoch 47/100\n",
      "50000/50000 [==============================] - 17s 332us/step - loss: 0.1441 - accuracy: 0.9520 - val_loss: 3.9268 - val_accuracy: 0.5208\n",
      "Epoch 48/100\n",
      "50000/50000 [==============================] - 17s 344us/step - loss: 0.1079 - accuracy: 0.9637 - val_loss: 4.2077 - val_accuracy: 0.5175\n",
      "Epoch 49/100\n",
      "50000/50000 [==============================] - 20s 397us/step - loss: 0.1276 - accuracy: 0.9568 - val_loss: 4.2458 - val_accuracy: 0.5200\n",
      "Epoch 50/100\n",
      "50000/50000 [==============================] - 17s 334us/step - loss: 0.1240 - accuracy: 0.9582 - val_loss: 4.0431 - val_accuracy: 0.5137\n",
      "Epoch 51/100\n",
      "50000/50000 [==============================] - 16s 328us/step - loss: 0.1221 - accuracy: 0.9575 - val_loss: 4.1783 - val_accuracy: 0.5158\n",
      "Epoch 52/100\n",
      "50000/50000 [==============================] - 16s 326us/step - loss: 0.1102 - accuracy: 0.9636 - val_loss: 4.2534 - val_accuracy: 0.5159\n",
      "Epoch 53/100\n",
      "50000/50000 [==============================] - 16s 326us/step - loss: 0.1176 - accuracy: 0.9608 - val_loss: 4.2105 - val_accuracy: 0.5139\n",
      "Epoch 54/100\n",
      "50000/50000 [==============================] - 16s 326us/step - loss: 0.1383 - accuracy: 0.9552 - val_loss: 4.1297 - val_accuracy: 0.5162\n"
     ]
    },
    {
     "name": "stdout",
     "output_type": "stream",
     "text": [
      "Epoch 55/100\n",
      "50000/50000 [==============================] - 16s 329us/step - loss: 0.1180 - accuracy: 0.9599 - val_loss: 4.1991 - val_accuracy: 0.5125\n",
      "Epoch 56/100\n",
      "50000/50000 [==============================] - 16s 317us/step - loss: 0.0862 - accuracy: 0.9712 - val_loss: 4.4850 - val_accuracy: 0.5213\n",
      "Epoch 57/100\n",
      "50000/50000 [==============================] - 16s 313us/step - loss: 0.0957 - accuracy: 0.9673 - val_loss: 4.4127 - val_accuracy: 0.5266\n",
      "Epoch 58/100\n",
      "50000/50000 [==============================] - 16s 312us/step - loss: 0.1013 - accuracy: 0.9655 - val_loss: 4.3845 - val_accuracy: 0.5273\n",
      "Epoch 59/100\n",
      "50000/50000 [==============================] - 16s 313us/step - loss: 0.0967 - accuracy: 0.9684 - val_loss: 4.4045 - val_accuracy: 0.5219\n",
      "Epoch 60/100\n",
      "50000/50000 [==============================] - 16s 312us/step - loss: 0.1252 - accuracy: 0.9591 - val_loss: 4.2844 - val_accuracy: 0.5153\n",
      "Epoch 61/100\n",
      "50000/50000 [==============================] - 16s 312us/step - loss: 0.1017 - accuracy: 0.9668 - val_loss: 4.3700 - val_accuracy: 0.5195\n",
      "Epoch 62/100\n",
      "50000/50000 [==============================] - 16s 312us/step - loss: 0.0911 - accuracy: 0.9705 - val_loss: 4.4647 - val_accuracy: 0.5176\n",
      "Epoch 63/100\n",
      "50000/50000 [==============================] - 16s 311us/step - loss: 0.1004 - accuracy: 0.9674 - val_loss: 4.3908 - val_accuracy: 0.5185\n",
      "Epoch 64/100\n",
      "50000/50000 [==============================] - 16s 314us/step - loss: 0.0994 - accuracy: 0.9672 - val_loss: 4.5617 - val_accuracy: 0.5227\n",
      "Epoch 65/100\n",
      "50000/50000 [==============================] - 16s 311us/step - loss: 0.0760 - accuracy: 0.9752 - val_loss: 4.6588 - val_accuracy: 0.5218\n",
      "Epoch 66/100\n",
      "50000/50000 [==============================] - 16s 312us/step - loss: 0.0670 - accuracy: 0.9775 - val_loss: 4.8020 - val_accuracy: 0.5257\n",
      "Epoch 67/100\n",
      "50000/50000 [==============================] - 16s 319us/step - loss: 0.1200 - accuracy: 0.9603 - val_loss: 4.5151 - val_accuracy: 0.5111\n",
      "Epoch 68/100\n",
      "50000/50000 [==============================] - 16s 318us/step - loss: 0.0837 - accuracy: 0.9729 - val_loss: 4.7946 - val_accuracy: 0.5108\n",
      "Epoch 69/100\n",
      "50000/50000 [==============================] - 16s 319us/step - loss: 0.0845 - accuracy: 0.9718 - val_loss: 4.8423 - val_accuracy: 0.5198\n",
      "Epoch 70/100\n",
      "50000/50000 [==============================] - 16s 317us/step - loss: 0.0828 - accuracy: 0.9733 - val_loss: 4.5748 - val_accuracy: 0.5182\n",
      "Epoch 71/100\n",
      "50000/50000 [==============================] - 16s 313us/step - loss: 0.0940 - accuracy: 0.9692 - val_loss: 4.5957 - val_accuracy: 0.5160\n",
      "Epoch 72/100\n",
      "50000/50000 [==============================] - 17s 337us/step - loss: 0.0959 - accuracy: 0.9683 - val_loss: 4.7657 - val_accuracy: 0.5165\n",
      "Epoch 73/100\n",
      "50000/50000 [==============================] - 16s 315us/step - loss: 0.0875 - accuracy: 0.9717 - val_loss: 4.6432 - val_accuracy: 0.5192\n",
      "Epoch 74/100\n",
      "50000/50000 [==============================] - 16s 327us/step - loss: 0.0780 - accuracy: 0.9745 - val_loss: 4.7094 - val_accuracy: 0.5192\n",
      "Epoch 75/100\n",
      "50000/50000 [==============================] - 17s 343us/step - loss: 0.0744 - accuracy: 0.9760 - val_loss: 4.7755 - val_accuracy: 0.5163\n",
      "Epoch 76/100\n",
      "50000/50000 [==============================] - 17s 331us/step - loss: 0.0688 - accuracy: 0.9774 - val_loss: 4.8565 - val_accuracy: 0.5235\n",
      "Epoch 77/100\n",
      "50000/50000 [==============================] - 16s 317us/step - loss: 0.0679 - accuracy: 0.9776 - val_loss: 4.7708 - val_accuracy: 0.5236\n",
      "Epoch 78/100\n",
      "50000/50000 [==============================] - 16s 315us/step - loss: 0.1026 - accuracy: 0.9677 - val_loss: 4.7317 - val_accuracy: 0.5210\n",
      "Epoch 79/100\n",
      "50000/50000 [==============================] - 16s 316us/step - loss: 0.0927 - accuracy: 0.9698 - val_loss: 4.8637 - val_accuracy: 0.5252\n",
      "Epoch 80/100\n",
      "50000/50000 [==============================] - 16s 315us/step - loss: 0.0724 - accuracy: 0.9762 - val_loss: 4.8198 - val_accuracy: 0.5218\n",
      "Epoch 81/100\n",
      "50000/50000 [==============================] - 16s 316us/step - loss: 0.0691 - accuracy: 0.9775 - val_loss: 4.9901 - val_accuracy: 0.5225\n",
      "Epoch 82/100\n",
      "50000/50000 [==============================] - 16s 315us/step - loss: 0.0687 - accuracy: 0.9779 - val_loss: 4.8371 - val_accuracy: 0.5261\n",
      "Epoch 83/100\n",
      "50000/50000 [==============================] - 16s 315us/step - loss: 0.0657 - accuracy: 0.9786 - val_loss: 4.8895 - val_accuracy: 0.5253\n",
      "Epoch 84/100\n",
      "50000/50000 [==============================] - 16s 317us/step - loss: 0.0729 - accuracy: 0.9774 - val_loss: 4.9027 - val_accuracy: 0.5232\n",
      "Epoch 85/100\n",
      "50000/50000 [==============================] - 16s 315us/step - loss: 0.0935 - accuracy: 0.9696 - val_loss: 4.7371 - val_accuracy: 0.5212\n",
      "Epoch 86/100\n",
      "50000/50000 [==============================] - 16s 319us/step - loss: 0.0861 - accuracy: 0.9719 - val_loss: 4.9358 - val_accuracy: 0.5293\n",
      "Epoch 87/100\n",
      "50000/50000 [==============================] - 16s 315us/step - loss: 0.0664 - accuracy: 0.9786 - val_loss: 4.9931 - val_accuracy: 0.5264\n",
      "Epoch 88/100\n",
      "50000/50000 [==============================] - 16s 317us/step - loss: 0.0522 - accuracy: 0.9833 - val_loss: 5.0155 - val_accuracy: 0.5280\n",
      "Epoch 89/100\n",
      "50000/50000 [==============================] - 16s 316us/step - loss: 0.0895 - accuracy: 0.9714 - val_loss: 4.9697 - val_accuracy: 0.5194\n",
      "Epoch 90/100\n",
      "50000/50000 [==============================] - 16s 317us/step - loss: 0.0787 - accuracy: 0.9743 - val_loss: 4.8900 - val_accuracy: 0.5229\n",
      "Epoch 91/100\n",
      "50000/50000 [==============================] - 16s 314us/step - loss: 0.0809 - accuracy: 0.9744 - val_loss: 4.9275 - val_accuracy: 0.5208\n",
      "Epoch 92/100\n",
      "50000/50000 [==============================] - 16s 312us/step - loss: 0.0388 - accuracy: 0.9876 - val_loss: 5.1083 - val_accuracy: 0.5243\n",
      "Epoch 93/100\n",
      "50000/50000 [==============================] - 16s 320us/step - loss: 0.0471 - accuracy: 0.9841 - val_loss: 5.1331 - val_accuracy: 0.5212\n",
      "Epoch 94/100\n",
      "50000/50000 [==============================] - 16s 315us/step - loss: 0.0718 - accuracy: 0.9773 - val_loss: 5.0868 - val_accuracy: 0.5218\n",
      "Epoch 95/100\n",
      "50000/50000 [==============================] - 16s 315us/step - loss: 0.0872 - accuracy: 0.9720 - val_loss: 4.9876 - val_accuracy: 0.5170\n",
      "Epoch 96/100\n",
      "50000/50000 [==============================] - 16s 314us/step - loss: 0.0700 - accuracy: 0.9776 - val_loss: 4.9641 - val_accuracy: 0.5228\n",
      "Epoch 97/100\n",
      "50000/50000 [==============================] - 16s 316us/step - loss: 0.0437 - accuracy: 0.9858 - val_loss: 5.3559 - val_accuracy: 0.5185\n",
      "Epoch 98/100\n",
      "50000/50000 [==============================] - 16s 317us/step - loss: 0.0610 - accuracy: 0.9808 - val_loss: 5.2317 - val_accuracy: 0.5257\n",
      "Epoch 99/100\n",
      "50000/50000 [==============================] - 16s 315us/step - loss: 0.0866 - accuracy: 0.9721 - val_loss: 4.9367 - val_accuracy: 0.5205\n",
      "Epoch 100/100\n",
      "50000/50000 [==============================] - 16s 312us/step - loss: 0.0731 - accuracy: 0.9761 - val_loss: 5.1639 - val_accuracy: 0.5248\n"
     ]
    },
    {
     "data": {
      "text/plain": [
       "<keras.callbacks.callbacks.History at 0x19699f8df28>"
      ]
     },
     "execution_count": 63,
     "metadata": {},
     "output_type": "execute_result"
    }
   ],
   "source": [
    "model.fit(x_train, y_train, \n",
    "          epochs=EPOCHS, \n",
    "          batch_size=BATCH_SIZE, \n",
    "          validation_data=(x_test, y_test), \n",
    "          shuffle=True)"
   ]
  },
  {
   "cell_type": "code",
   "execution_count": 65,
   "metadata": {},
   "outputs": [
    {
     "data": {
      "image/png": "[encoded data removed]",
      "text/plain": [
       "<Figure size 432x288 with 1 Axes>"
      ]
     },
     "metadata": {
      "needs_background": "light"
     },
     "output_type": "display_data"
    },
    {
     "data": {
      "image/png": "[encoded data removed]",
      "text/plain": [
       "<Figure size 432x288 with 1 Axes>"
      ]
     },
     "metadata": {
      "needs_background": "light"
     },
     "output_type": "display_data"
    }
   ],
   "source": [
    "import matplotlib.pyplot as plt\n",
    "\n",
    "\n",
    "train_loss = model.history.history[\"loss\"]\n",
    "valid_loss = model.history.history[\"val_loss\"]\n",
    "\n",
    "train_acc = model.history.history[\"accuracy\"]\n",
    "valid_acc = model.history.history[\"val_accuracy\"]\n",
    "\n",
    "plt.plot(range(len(train_loss)), train_loss, label=\"train loss\")\n",
    "plt.plot(range(len(valid_loss)), valid_loss, label=\"valid loss\")\n",
    "plt.legend()\n",
    "plt.title(\"Loss\")\n",
    "plt.show()\n",
    "\n",
    "plt.plot(range(len(train_acc)), train_acc, label=\"train accuracy\")\n",
    "plt.plot(range(len(valid_acc)), valid_acc, label=\"valid accuracy\")\n",
    "plt.legend()\n",
    "plt.title(\"Accuracy\")\n",
    "plt.show()"
   ]
  }
 ],
 "metadata": {
  "kernelspec": {
   "display_name": "Python 3",
   "language": "python",
   "name": "python3"
  },
  "language_info": {
   "codemirror_mode": {
    "name": "ipython",
    "version": 3
   },
   "file_extension": ".py",
   "mimetype": "text/x-python",
   "name": "python",
   "nbconvert_exporter": "python",
   "pygments_lexer": "ipython3",
   "version": "3.7.3"
  }
 },
 "nbformat": 4,
 "nbformat_minor": 2
}
