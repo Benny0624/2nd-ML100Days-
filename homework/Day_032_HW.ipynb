{
 "cells": [
  {
   "cell_type": "markdown",
   "metadata": {},
   "source": [
    "## 練習時間\n",
    "相信大家目前都能夠初步了解機器學習專案的流程及步驟，今天的作業希望大家能夠看看全球機器學習巨頭們在做的機器學習專案。以 google 為例，下圖是 Google 內部專案使用機器學習的數量，隨著時間進展，現在早已超過 2000 個專案在使用 ML。"
   ]
  },
  {
   "cell_type": "markdown",
   "metadata": {},
   "source": [
    "![image](https://cdn-images-1.medium.com/max/800/1*U_L8qI8RmYS-MOBrYvXhSA.png)"
   ]
  },
  {
   "cell_type": "markdown",
   "metadata": {},
   "source": [
    "底下幫同學整理幾間知名企業的 blog 或機器學習網站 (自行搜尋也可)，請挑選一篇文章閱讀並試著回答\n",
    "1. 專案的目標？ (要解決什麼問題）\n",
    "2. 使用的技術是？ (只需知道名稱即可，例如：使用 CNN 卷積神經網路做影像分類)\n",
    "3. 資料來源？ "
   ]
  },
  {
   "cell_type": "markdown",
   "metadata": {},
   "source": [
    "- [Google AI blog](https://ai.googleblog.com/)\n",
    "- [Facebook Research blog](https://research.fb.com/blog/)\n",
    "- [Apple machine learning journal](https://machinelearning.apple.com/)\n",
    "- [機器之心](https://www.jiqizhixin.com/)\n",
    "- [雷鋒網](http://www.leiphone.com/category/ai)"
   ]
  },
  {
   "cell_type": "markdown",
   "metadata": {},
   "source": [
    "### 專案: Google《Learning the Depths of Moving People by Watching Frozen People》"
   ]
  },
  {
   "cell_type": "markdown",
   "metadata": {},
   "source": [
    "#### 專案目標:  \n",
    "##### 依靠機器學習達成人類視覺系統中一極其強大的功能，即從平面圖像反推出對應的三維世界的功能\n",
    "##### 用機器學習的方法「學習」三維重建/深度預測並不是什麼新鮮事，不過Google這項研究專門針對攝影機和被攝物體都在移動的場景，而且重點關註的被攝物體是人物，做到即使在有多個物體同時移動的復雜環境中，也能夠對這些物體的幾何形狀、深度關係做出合理的推測。畢竟人物的深度估計可以在 AR、三維視頻特效中都派上用場。"
   ]
  },
  {
   "cell_type": "markdown",
   "metadata": {},
   "source": [
    "#### 使用技術:　\n",
    "##### Supervised Deep Learning-Based techniques\n",
    "##### 利用 YouTube 海量影片中，各種題材、場景、拍攝手法的都有，有一類影片對這個任務極其有幫助：影片中的人假裝時間靜止，保持位置和姿態不動，然後一個攝影機在空間中移動，拍下整個場景。由於整個場景中的物體都是固定的，就可以用傳統的基於三角計算的方法精確地還原整個三維場景，也就得到了高精度的深度圖。"
   ]
  },
  {
   "cell_type": "markdown",
   "metadata": {},
   "source": [
    "#### 成果:\n",
    "![image](https://static.leiphone.com/uploads/new/images/20190528/5cecfa4ed2131.gif?imageView2/2/w/740)\n",
    "![image](https://static.leiphone.com/uploads/new/images/20190528/5cecfa5e53e80.gif?imageView2/2/w/740)"
   ]
  },
  {
   "cell_type": "markdown",
   "metadata": {},
   "source": [
    "###### Resource:　https://ai.googleblog.com/2019/05/moving-camera-moving-people-deep.html"
   ]
  }
 ],
 "metadata": {
  "kernelspec": {
   "display_name": "Python 3",
   "language": "python",
   "name": "python3"
  },
  "language_info": {
   "codemirror_mode": {
    "name": "ipython",
    "version": 3
   },
   "file_extension": ".py",
   "mimetype": "text/x-python",
   "name": "python",
   "nbconvert_exporter": "python",
   "pygments_lexer": "ipython3",
   "version": "3.7.3"
  }
 },
 "nbformat": 4,
 "nbformat_minor": 2
}
