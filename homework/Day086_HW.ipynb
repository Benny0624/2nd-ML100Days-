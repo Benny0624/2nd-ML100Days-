{
 "cells": [
  {
   "cell_type": "markdown",
   "metadata": {},
   "source": [
    "## Work\n",
    "1. 試比較 save_best_only 與否的差異\n",
    "2. 請僅存入將 save_weights_only 設定為 True, 並嘗試 reset ipynb 並將模型與權重重新建回並預測 x_test"
   ]
  },
  {
   "cell_type": "code",
   "execution_count": 1,
   "metadata": {},
   "outputs": [
    {
     "name": "stderr",
     "output_type": "stream",
     "text": [
      "Using TensorFlow backend.\n"
     ]
    }
   ],
   "source": [
    "import os\n",
    "import keras\n",
    "\n",
    "# Disable GPU\n",
    "os.environ[\"CUDA_VISIBLE_DEVICES\"] = \"\""
   ]
  },
  {
   "cell_type": "code",
   "execution_count": 2,
   "metadata": {},
   "outputs": [],
   "source": [
    "train, test = keras.datasets.cifar10.load_data()"
   ]
  },
  {
   "cell_type": "code",
   "execution_count": 3,
   "metadata": {},
   "outputs": [],
   "source": [
    "## 資料前處理\n",
    "def preproc_x(x, flatten=True):\n",
    "    x = x / 255.\n",
    "    if flatten:\n",
    "        x = x.reshape((len(x), -1))\n",
    "    return x\n",
    "\n",
    "def preproc_y(y, num_classes=10):\n",
    "    if y.shape[-1] == 1:\n",
    "        y = keras.utils.to_categorical(y, num_classes)\n",
    "    return y    "
   ]
  },
  {
   "cell_type": "code",
   "execution_count": 4,
   "metadata": {},
   "outputs": [],
   "source": [
    "x_train, y_train = train\n",
    "x_test, y_test = test\n",
    "\n",
    "# Preproc the inputs\n",
    "x_train = preproc_x(x_train)\n",
    "x_test = preproc_x(x_test)\n",
    "\n",
    "# Preprc the outputs\n",
    "y_train = preproc_y(y_train)\n",
    "y_test = preproc_y(y_test)"
   ]
  },
  {
   "cell_type": "code",
   "execution_count": 5,
   "metadata": {},
   "outputs": [],
   "source": [
    "from keras.layers import BatchNormalization\n",
    "\n",
    "\"\"\"\n",
    "建立神經網路，並加入 BN layer\n",
    "\"\"\"\n",
    "def build_mlp(input_shape, output_units=10, num_neurons=[512, 256, 128]):\n",
    "    input_layer = keras.layers.Input(input_shape)\n",
    "    \n",
    "    for i, n_units in enumerate(num_neurons):\n",
    "        if i == 0:\n",
    "            x = keras.layers.Dense(units=n_units, \n",
    "                                   activation=\"relu\", \n",
    "                                   name=\"hidden_layer\"+str(i+1))(input_layer)\n",
    "            x = BatchNormalization()(x)\n",
    "        else:\n",
    "            x = keras.layers.Dense(units=n_units, \n",
    "                                   activation=\"relu\", \n",
    "                                   name=\"hidden_layer\"+str(i+1))(x)\n",
    "            x = BatchNormalization()(x)\n",
    "    \n",
    "    out = keras.layers.Dense(units=output_units, activation=\"softmax\", name=\"output\")(x)\n",
    "    \n",
    "    model = keras.models.Model(inputs=[input_layer], outputs=[out])\n",
    "    return model"
   ]
  },
  {
   "cell_type": "code",
   "execution_count": 6,
   "metadata": {},
   "outputs": [],
   "source": [
    "## 超參數設定\n",
    "LEARNING_RATE = 1e-3\n",
    "EPOCHS = 50\n",
    "BATCH_SIZE = 1024\n",
    "MOMENTUM = 0.95"
   ]
  },
  {
   "cell_type": "code",
   "execution_count": 9,
   "metadata": {},
   "outputs": [],
   "source": [
    "from keras.callbacks import ModelCheckpoint\n",
    "\n",
    "model_ckpt1 = ModelCheckpoint(filepath=\"./tmp1.h5\", \n",
    "                             monitor=\"val_loss\", \n",
    "                             save_best_only=False)"
   ]
  },
  {
   "cell_type": "code",
   "execution_count": 11,
   "metadata": {},
   "outputs": [
    {
     "name": "stdout",
     "output_type": "stream",
     "text": [
      "Model: \"model_2\"\n",
      "_________________________________________________________________\n",
      "Layer (type)                 Output Shape              Param #   \n",
      "=================================================================\n",
      "input_2 (InputLayer)         (None, 3072)              0         \n",
      "_________________________________________________________________\n",
      "hidden_layer1 (Dense)        (None, 512)               1573376   \n",
      "_________________________________________________________________\n",
      "batch_normalization_4 (Batch (None, 512)               2048      \n",
      "_________________________________________________________________\n",
      "hidden_layer2 (Dense)        (None, 256)               131328    \n",
      "_________________________________________________________________\n",
      "batch_normalization_5 (Batch (None, 256)               1024      \n",
      "_________________________________________________________________\n",
      "hidden_layer3 (Dense)        (None, 128)               32896     \n",
      "_________________________________________________________________\n",
      "batch_normalization_6 (Batch (None, 128)               512       \n",
      "_________________________________________________________________\n",
      "output (Dense)               (None, 10)                1290      \n",
      "=================================================================\n",
      "Total params: 1,742,474\n",
      "Trainable params: 1,740,682\n",
      "Non-trainable params: 1,792\n",
      "_________________________________________________________________\n",
      "Train on 50000 samples, validate on 10000 samples\n",
      "Epoch 1/50\n",
      "50000/50000 [==============================] - 12s 250us/step - loss: 2.1909 - accuracy: 0.2779 - val_loss: 2.0981 - val_accuracy: 0.2294\n",
      "Epoch 2/50\n",
      "50000/50000 [==============================] - 11s 219us/step - loss: 1.7321 - accuracy: 0.3960 - val_loss: 1.9461 - val_accuracy: 0.2882\n",
      "Epoch 3/50\n",
      "50000/50000 [==============================] - 10s 208us/step - loss: 1.6103 - accuracy: 0.4366 - val_loss: 1.8059 - val_accuracy: 0.3648\n",
      "Epoch 4/50\n",
      "50000/50000 [==============================] - 11s 218us/step - loss: 1.5374 - accuracy: 0.4618 - val_loss: 1.7040 - val_accuracy: 0.4088\n",
      "Epoch 5/50\n",
      "50000/50000 [==============================] - 10s 204us/step - loss: 1.4836 - accuracy: 0.4790 - val_loss: 1.6267 - val_accuracy: 0.4335\n",
      "Epoch 6/50\n",
      "50000/50000 [==============================] - 10s 205us/step - loss: 1.4368 - accuracy: 0.4980 - val_loss: 1.5782 - val_accuracy: 0.4427\n",
      "Epoch 7/50\n",
      "50000/50000 [==============================] - 10s 205us/step - loss: 1.3970 - accuracy: 0.5131 - val_loss: 1.5464 - val_accuracy: 0.4556\n",
      "Epoch 8/50\n",
      "50000/50000 [==============================] - 11s 216us/step - loss: 1.3625 - accuracy: 0.5263 - val_loss: 1.5240 - val_accuracy: 0.4596\n",
      "Epoch 9/50\n",
      "50000/50000 [==============================] - 10s 205us/step - loss: 1.3298 - accuracy: 0.5395 - val_loss: 1.5123 - val_accuracy: 0.4633\n",
      "Epoch 10/50\n",
      "50000/50000 [==============================] - 10s 204us/step - loss: 1.2982 - accuracy: 0.5495 - val_loss: 1.4911 - val_accuracy: 0.4709\n",
      "Epoch 11/50\n",
      "50000/50000 [==============================] - 11s 218us/step - loss: 1.2720 - accuracy: 0.5585 - val_loss: 1.4950 - val_accuracy: 0.4711\n",
      "Epoch 12/50\n",
      "50000/50000 [==============================] - 10s 208us/step - loss: 1.2442 - accuracy: 0.5682 - val_loss: 1.4912 - val_accuracy: 0.4710\n",
      "Epoch 13/50\n",
      "50000/50000 [==============================] - 10s 205us/step - loss: 1.2185 - accuracy: 0.5794 - val_loss: 1.4757 - val_accuracy: 0.4792\n",
      "Epoch 14/50\n",
      "50000/50000 [==============================] - 12s 232us/step - loss: 1.1933 - accuracy: 0.5886 - val_loss: 1.4728 - val_accuracy: 0.4803\n",
      "Epoch 15/50\n",
      "50000/50000 [==============================] - 11s 220us/step - loss: 1.1687 - accuracy: 0.5972 - val_loss: 1.4587 - val_accuracy: 0.4839\n",
      "Epoch 16/50\n",
      "50000/50000 [==============================] - 11s 212us/step - loss: 1.1464 - accuracy: 0.6049 - val_loss: 1.4795 - val_accuracy: 0.4807\n",
      "Epoch 17/50\n",
      "50000/50000 [==============================] - 12s 244us/step - loss: 1.1226 - accuracy: 0.6151 - val_loss: 1.4592 - val_accuracy: 0.4822\n",
      "Epoch 18/50\n",
      "50000/50000 [==============================] - 11s 229us/step - loss: 1.0993 - accuracy: 0.6221 - val_loss: 1.4788 - val_accuracy: 0.4818\n",
      "Epoch 19/50\n",
      "50000/50000 [==============================] - 10s 200us/step - loss: 1.0782 - accuracy: 0.6323 - val_loss: 1.4611 - val_accuracy: 0.4869\n",
      "Epoch 20/50\n",
      "50000/50000 [==============================] - 11s 213us/step - loss: 1.0569 - accuracy: 0.6394 - val_loss: 1.4656 - val_accuracy: 0.4881\n",
      "Epoch 21/50\n",
      "50000/50000 [==============================] - 13s 258us/step - loss: 1.0377 - accuracy: 0.6468 - val_loss: 1.4643 - val_accuracy: 0.4877\n",
      "Epoch 22/50\n",
      "50000/50000 [==============================] - 13s 270us/step - loss: 1.0145 - accuracy: 0.6560 - val_loss: 1.4663 - val_accuracy: 0.4917\n",
      "Epoch 23/50\n",
      "50000/50000 [==============================] - 11s 211us/step - loss: 0.9926 - accuracy: 0.6634 - val_loss: 1.4758 - val_accuracy: 0.4847\n",
      "Epoch 24/50\n",
      "50000/50000 [==============================] - 10s 194us/step - loss: 0.9732 - accuracy: 0.6725 - val_loss: 1.4721 - val_accuracy: 0.4914\n",
      "Epoch 25/50\n",
      "50000/50000 [==============================] - 10s 195us/step - loss: 0.9529 - accuracy: 0.6814 - val_loss: 1.4750 - val_accuracy: 0.4870\n",
      "Epoch 26/50\n",
      "50000/50000 [==============================] - 10s 198us/step - loss: 0.9332 - accuracy: 0.6868 - val_loss: 1.4759 - val_accuracy: 0.4910\n",
      "Epoch 27/50\n",
      "50000/50000 [==============================] - 10s 197us/step - loss: 0.9123 - accuracy: 0.6962 - val_loss: 1.4842 - val_accuracy: 0.4916\n",
      "Epoch 28/50\n",
      "50000/50000 [==============================] - 10s 194us/step - loss: 0.8907 - accuracy: 0.7050 - val_loss: 1.4822 - val_accuracy: 0.4892\n",
      "Epoch 29/50\n",
      "50000/50000 [==============================] - 10s 194us/step - loss: 0.8725 - accuracy: 0.7110 - val_loss: 1.4921 - val_accuracy: 0.4912\n",
      "Epoch 30/50\n",
      "50000/50000 [==============================] - 10s 197us/step - loss: 0.8538 - accuracy: 0.7185 - val_loss: 1.4951 - val_accuracy: 0.4912\n",
      "Epoch 31/50\n",
      "50000/50000 [==============================] - 13s 266us/step - loss: 0.8318 - accuracy: 0.7273 - val_loss: 1.5092 - val_accuracy: 0.4880\n",
      "Epoch 32/50\n",
      "50000/50000 [==============================] - 13s 255us/step - loss: 0.8130 - accuracy: 0.7362 - val_loss: 1.5170 - val_accuracy: 0.4899\n",
      "Epoch 33/50\n",
      "50000/50000 [==============================] - 12s 239us/step - loss: 0.7935 - accuracy: 0.7425 - val_loss: 1.5256 - val_accuracy: 0.4857\n",
      "Epoch 34/50\n",
      "50000/50000 [==============================] - 11s 226us/step - loss: 0.7757 - accuracy: 0.7479 - val_loss: 1.5327 - val_accuracy: 0.4925\n",
      "Epoch 35/50\n",
      "50000/50000 [==============================] - 11s 212us/step - loss: 0.7558 - accuracy: 0.7574 - val_loss: 1.5408 - val_accuracy: 0.4868\n",
      "Epoch 36/50\n",
      "50000/50000 [==============================] - 11s 217us/step - loss: 0.7372 - accuracy: 0.7642 - val_loss: 1.5428 - val_accuracy: 0.4903\n",
      "Epoch 37/50\n",
      "50000/50000 [==============================] - 11s 211us/step - loss: 0.7188 - accuracy: 0.7728 - val_loss: 1.5512 - val_accuracy: 0.4872\n",
      "Epoch 38/50\n",
      "50000/50000 [==============================] - 11s 212us/step - loss: 0.6994 - accuracy: 0.7802 - val_loss: 1.5675 - val_accuracy: 0.4859\n",
      "Epoch 39/50\n",
      "50000/50000 [==============================] - 11s 217us/step - loss: 0.6810 - accuracy: 0.7858 - val_loss: 1.5625 - val_accuracy: 0.4882\n",
      "Epoch 40/50\n",
      "50000/50000 [==============================] - 11s 214us/step - loss: 0.6637 - accuracy: 0.7922 - val_loss: 1.5890 - val_accuracy: 0.4828\n",
      "Epoch 41/50\n",
      "50000/50000 [==============================] - 11s 220us/step - loss: 0.6455 - accuracy: 0.8022 - val_loss: 1.5724 - val_accuracy: 0.4873\n",
      "Epoch 42/50\n",
      "50000/50000 [==============================] - 11s 219us/step - loss: 0.6253 - accuracy: 0.8102 - val_loss: 1.5856 - val_accuracy: 0.4912\n",
      "Epoch 43/50\n",
      "50000/50000 [==============================] - 11s 211us/step - loss: 0.6095 - accuracy: 0.8155 - val_loss: 1.6005 - val_accuracy: 0.4871\n",
      "Epoch 44/50\n",
      "50000/50000 [==============================] - 11s 211us/step - loss: 0.5918 - accuracy: 0.8233 - val_loss: 1.6299 - val_accuracy: 0.4798\n",
      "Epoch 45/50\n",
      "50000/50000 [==============================] - 11s 218us/step - loss: 0.5746 - accuracy: 0.8289 - val_loss: 1.6325 - val_accuracy: 0.4860\n"
     ]
    },
    {
     "name": "stdout",
     "output_type": "stream",
     "text": [
      "Epoch 46/50\n",
      "50000/50000 [==============================] - 11s 210us/step - loss: 0.5580 - accuracy: 0.8356 - val_loss: 1.6368 - val_accuracy: 0.4837\n",
      "Epoch 47/50\n",
      "50000/50000 [==============================] - 11s 213us/step - loss: 0.5409 - accuracy: 0.8432 - val_loss: 1.6432 - val_accuracy: 0.4844\n",
      "Epoch 48/50\n",
      "50000/50000 [==============================] - 11s 217us/step - loss: 0.5216 - accuracy: 0.8504 - val_loss: 1.6517 - val_accuracy: 0.4898\n",
      "Epoch 49/50\n",
      "50000/50000 [==============================] - 11s 222us/step - loss: 0.5072 - accuracy: 0.8571 - val_loss: 1.6935 - val_accuracy: 0.4800\n",
      "Epoch 50/50\n",
      "50000/50000 [==============================] - 11s 220us/step - loss: 0.4907 - accuracy: 0.8618 - val_loss: 1.6902 - val_accuracy: 0.4821\n"
     ]
    },
    {
     "ename": "KeyError",
     "evalue": "'acc'",
     "output_type": "error",
     "traceback": [
      "\u001b[1;31m---------------------------------------------------------------------------\u001b[0m",
      "\u001b[1;31mKeyError\u001b[0m                                  Traceback (most recent call last)",
      "\u001b[1;32m<ipython-input-11-449b89d924f9>\u001b[0m in \u001b[0;36m<module>\u001b[1;34m\u001b[0m\n\u001b[0;32m     15\u001b[0m \u001b[0mtrain_loss\u001b[0m \u001b[1;33m=\u001b[0m \u001b[0mmodel1\u001b[0m\u001b[1;33m.\u001b[0m\u001b[0mhistory\u001b[0m\u001b[1;33m.\u001b[0m\u001b[0mhistory\u001b[0m\u001b[1;33m[\u001b[0m\u001b[1;34m\"loss\"\u001b[0m\u001b[1;33m]\u001b[0m\u001b[1;33m\u001b[0m\u001b[1;33m\u001b[0m\u001b[0m\n\u001b[0;32m     16\u001b[0m \u001b[0mvalid_loss\u001b[0m \u001b[1;33m=\u001b[0m \u001b[0mmodel1\u001b[0m\u001b[1;33m.\u001b[0m\u001b[0mhistory\u001b[0m\u001b[1;33m.\u001b[0m\u001b[0mhistory\u001b[0m\u001b[1;33m[\u001b[0m\u001b[1;34m\"val_loss\"\u001b[0m\u001b[1;33m]\u001b[0m\u001b[1;33m\u001b[0m\u001b[1;33m\u001b[0m\u001b[0m\n\u001b[1;32m---> 17\u001b[1;33m \u001b[0mtrain_acc\u001b[0m \u001b[1;33m=\u001b[0m \u001b[0mmodel1\u001b[0m\u001b[1;33m.\u001b[0m\u001b[0mhistory\u001b[0m\u001b[1;33m.\u001b[0m\u001b[0mhistory\u001b[0m\u001b[1;33m[\u001b[0m\u001b[1;34m\"acc\"\u001b[0m\u001b[1;33m]\u001b[0m\u001b[1;33m\u001b[0m\u001b[1;33m\u001b[0m\u001b[0m\n\u001b[0m\u001b[0;32m     18\u001b[0m \u001b[0mvalid_acc\u001b[0m \u001b[1;33m=\u001b[0m \u001b[0mmodel1\u001b[0m\u001b[1;33m.\u001b[0m\u001b[0mhistory\u001b[0m\u001b[1;33m.\u001b[0m\u001b[0mhistory\u001b[0m\u001b[1;33m[\u001b[0m\u001b[1;34m\"val_acc\"\u001b[0m\u001b[1;33m]\u001b[0m\u001b[1;33m\u001b[0m\u001b[1;33m\u001b[0m\u001b[0m\n\u001b[0;32m     19\u001b[0m \u001b[1;33m\u001b[0m\u001b[0m\n",
      "\u001b[1;31mKeyError\u001b[0m: 'acc'"
     ]
    }
   ],
   "source": [
    "model1 = build_mlp(input_shape=x_train.shape[1:])\n",
    "model.summary()\n",
    "optimizer = keras.optimizers.SGD(lr=LEARNING_RATE, nesterov=True, momentum=MOMENTUM)\n",
    "model1.compile(loss=\"categorical_crossentropy\", metrics=[\"accuracy\"], optimizer=optimizer)\n",
    "\n",
    "model1.fit(x_train, y_train, \n",
    "          epochs=EPOCHS, \n",
    "          batch_size=BATCH_SIZE, \n",
    "          validation_data=(x_test, y_test), \n",
    "          shuffle=True,\n",
    "          callbacks=[model_ckpt1]\n",
    "         )"
   ]
  },
  {
   "cell_type": "code",
   "execution_count": 13,
   "metadata": {},
   "outputs": [
    {
     "name": "stdout",
     "output_type": "stream",
     "text": [
      "10000/10000 [==============================] - 3s 279us/step\n"
     ]
    }
   ],
   "source": [
    "# Collect results\n",
    "train_loss = model1.history.history[\"loss\"]\n",
    "valid_loss = model1.history.history[\"val_loss\"]\n",
    "train_acc = model1.history.history[\"accuracy\"]\n",
    "valid_acc = model1.history.history[\"val_accuracy\"]\n",
    "\n",
    "# Load back\n",
    "model1 = keras.models.load_model(\"./tmp1.h5\")\n",
    "loss_loadback, acc_loadback = model1.evaluate(x_test, y_test)"
   ]
  },
  {
   "cell_type": "code",
   "execution_count": 14,
   "metadata": {
    "scrolled": true
   },
   "outputs": [
    {
     "data": {
      "image/png": "[encoded data removed]",
      "text/plain": [
       "<Figure size 432x288 with 1 Axes>"
      ]
     },
     "metadata": {
      "needs_background": "light"
     },
     "output_type": "display_data"
    },
    {
     "data": {
      "image/png": "[encoded data removed]",
      "text/plain": [
       "<Figure size 432x288 with 1 Axes>"
      ]
     },
     "metadata": {
      "needs_background": "light"
     },
     "output_type": "display_data"
    }
   ],
   "source": [
    "import matplotlib.pyplot as plt\n",
    "%matplotlib inline\n",
    "\n",
    "plt.plot(range(len(train_loss)), train_loss, label=\"train loss\")\n",
    "plt.plot(range(len(valid_loss)), valid_loss, label=\"valid loss\")\n",
    "plt.hlines(y=loss_loadback, xmin=0, xmax=len(train_loss), colors='r', linestyles='--')\n",
    "plt.legend()\n",
    "plt.title(\"Loss_Without_save_best_only\")\n",
    "plt.show()\n",
    "\n",
    "plt.plot(range(len(train_acc)), train_acc, label=\"train accuracy\")\n",
    "plt.plot(range(len(valid_acc)), valid_acc, label=\"valid accuracy\")\n",
    "plt.hlines(y=acc_loadback, xmin=0, xmax=len(train_loss), colors='r', linestyles='--')\n",
    "plt.legend()\n",
    "plt.title(\"Accuracy_Without_save_best_only\")\n",
    "plt.show()"
   ]
  },
  {
   "cell_type": "code",
   "execution_count": 15,
   "metadata": {},
   "outputs": [],
   "source": [
    "model_ckpt2 = ModelCheckpoint(filepath=\"./tmp2.h5\", \n",
    "                             monitor=\"val_loss\", \n",
    "                             save_best_only=True,\n",
    "                             save_weights_only=True)"
   ]
  },
  {
   "cell_type": "code",
   "execution_count": 23,
   "metadata": {},
   "outputs": [
    {
     "name": "stdout",
     "output_type": "stream",
     "text": [
      "Model: \"model_5\"\n",
      "_________________________________________________________________\n",
      "Layer (type)                 Output Shape              Param #   \n",
      "=================================================================\n",
      "input_5 (InputLayer)         (None, 3072)              0         \n",
      "_________________________________________________________________\n",
      "hidden_layer1 (Dense)        (None, 512)               1573376   \n",
      "_________________________________________________________________\n",
      "batch_normalization_13 (Batc (None, 512)               2048      \n",
      "_________________________________________________________________\n",
      "hidden_layer2 (Dense)        (None, 256)               131328    \n",
      "_________________________________________________________________\n",
      "batch_normalization_14 (Batc (None, 256)               1024      \n",
      "_________________________________________________________________\n",
      "hidden_layer3 (Dense)        (None, 128)               32896     \n",
      "_________________________________________________________________\n",
      "batch_normalization_15 (Batc (None, 128)               512       \n",
      "_________________________________________________________________\n",
      "output (Dense)               (None, 10)                1290      \n",
      "=================================================================\n",
      "Total params: 1,742,474\n",
      "Trainable params: 1,740,682\n",
      "Non-trainable params: 1,792\n",
      "_________________________________________________________________\n",
      "Train on 50000 samples, validate on 10000 samples\n",
      "Epoch 1/50\n",
      "50000/50000 [==============================] - 52s 1ms/step - loss: 2.2054 - accuracy: 0.2694 - val_loss: 2.1220 - val_accuracy: 0.2241\n",
      "Epoch 2/50\n",
      "50000/50000 [==============================] - 13s 257us/step - loss: 1.7529 - accuracy: 0.3876 - val_loss: 1.9908 - val_accuracy: 0.2938\n",
      "Epoch 3/50\n",
      "50000/50000 [==============================] - 13s 254us/step - loss: 1.6260 - accuracy: 0.4308 - val_loss: 1.8402 - val_accuracy: 0.3580\n",
      "Epoch 4/50\n",
      "50000/50000 [==============================] - 12s 241us/step - loss: 1.5522 - accuracy: 0.4567 - val_loss: 1.7347 - val_accuracy: 0.3983\n",
      "Epoch 5/50\n",
      "50000/50000 [==============================] - 12s 232us/step - loss: 1.4975 - accuracy: 0.4770 - val_loss: 1.6461 - val_accuracy: 0.4269\n",
      "Epoch 6/50\n",
      "50000/50000 [==============================] - 12s 232us/step - loss: 1.4539 - accuracy: 0.4938 - val_loss: 1.5989 - val_accuracy: 0.4395\n",
      "Epoch 7/50\n",
      "50000/50000 [==============================] - 12s 234us/step - loss: 1.4152 - accuracy: 0.5076 - val_loss: 1.5585 - val_accuracy: 0.4510\n",
      "Epoch 8/50\n",
      "50000/50000 [==============================] - 11s 228us/step - loss: 1.3812 - accuracy: 0.5187 - val_loss: 1.5374 - val_accuracy: 0.4621\n",
      "Epoch 9/50\n",
      "50000/50000 [==============================] - 12s 244us/step - loss: 1.3488 - accuracy: 0.5325 - val_loss: 1.5140 - val_accuracy: 0.4673\n",
      "Epoch 10/50\n",
      "50000/50000 [==============================] - 13s 251us/step - loss: 1.3193 - accuracy: 0.5426 - val_loss: 1.5059 - val_accuracy: 0.4776\n",
      "Epoch 11/50\n",
      "50000/50000 [==============================] - 13s 258us/step - loss: 1.2927 - accuracy: 0.5529 - val_loss: 1.4998 - val_accuracy: 0.4728\n",
      "Epoch 12/50\n",
      "50000/50000 [==============================] - 12s 250us/step - loss: 1.2654 - accuracy: 0.5622 - val_loss: 1.4923 - val_accuracy: 0.4741\n",
      "Epoch 13/50\n",
      "50000/50000 [==============================] - 13s 265us/step - loss: 1.2373 - accuracy: 0.5709 - val_loss: 1.4811 - val_accuracy: 0.4820\n",
      "Epoch 14/50\n",
      "50000/50000 [==============================] - 12s 238us/step - loss: 1.2140 - accuracy: 0.5820 - val_loss: 1.4716 - val_accuracy: 0.4838\n",
      "Epoch 15/50\n",
      "50000/50000 [==============================] - 13s 257us/step - loss: 1.1897 - accuracy: 0.5891 - val_loss: 1.4778 - val_accuracy: 0.4790\n",
      "Epoch 16/50\n",
      "50000/50000 [==============================] - 14s 286us/step - loss: 1.1649 - accuracy: 0.5996 - val_loss: 1.4824 - val_accuracy: 0.4807\n",
      "Epoch 17/50\n",
      "50000/50000 [==============================] - 12s 230us/step - loss: 1.1425 - accuracy: 0.6068 - val_loss: 1.4658 - val_accuracy: 0.4898\n",
      "Epoch 18/50\n",
      "50000/50000 [==============================] - 11s 218us/step - loss: 1.1199 - accuracy: 0.6154 - val_loss: 1.4681 - val_accuracy: 0.4916\n",
      "Epoch 19/50\n",
      "50000/50000 [==============================] - 11s 222us/step - loss: 1.0989 - accuracy: 0.6231 - val_loss: 1.4588 - val_accuracy: 0.4906\n",
      "Epoch 20/50\n",
      "50000/50000 [==============================] - 11s 217us/step - loss: 1.0751 - accuracy: 0.6341 - val_loss: 1.4621 - val_accuracy: 0.4927\n",
      "Epoch 21/50\n",
      "50000/50000 [==============================] - 11s 217us/step - loss: 1.0543 - accuracy: 0.6406 - val_loss: 1.4643 - val_accuracy: 0.4930\n",
      "Epoch 22/50\n",
      "50000/50000 [==============================] - 11s 222us/step - loss: 1.0326 - accuracy: 0.6507 - val_loss: 1.4658 - val_accuracy: 0.4890\n",
      "Epoch 23/50\n",
      "50000/50000 [==============================] - 11s 218us/step - loss: 1.0142 - accuracy: 0.6563 - val_loss: 1.4650 - val_accuracy: 0.4915\n",
      "Epoch 24/50\n",
      "50000/50000 [==============================] - 11s 222us/step - loss: 0.9921 - accuracy: 0.6646 - val_loss: 1.4734 - val_accuracy: 0.4931\n",
      "Epoch 25/50\n",
      "50000/50000 [==============================] - 11s 218us/step - loss: 0.9706 - accuracy: 0.6728 - val_loss: 1.4713 - val_accuracy: 0.4945\n",
      "Epoch 26/50\n",
      "50000/50000 [==============================] - 13s 269us/step - loss: 0.9497 - accuracy: 0.6833 - val_loss: 1.4797 - val_accuracy: 0.5009\n",
      "Epoch 27/50\n",
      "50000/50000 [==============================] - 12s 232us/step - loss: 0.9299 - accuracy: 0.6902 - val_loss: 1.4739 - val_accuracy: 0.4959\n",
      "Epoch 28/50\n",
      "50000/50000 [==============================] - 11s 220us/step - loss: 0.9101 - accuracy: 0.6975 - val_loss: 1.4918 - val_accuracy: 0.4913\n",
      "Epoch 29/50\n",
      "50000/50000 [==============================] - 12s 250us/step - loss: 0.8910 - accuracy: 0.7060 - val_loss: 1.4847 - val_accuracy: 0.4951\n",
      "Epoch 30/50\n",
      "50000/50000 [==============================] - 11s 221us/step - loss: 0.8722 - accuracy: 0.7118 - val_loss: 1.4962 - val_accuracy: 0.4920\n",
      "Epoch 31/50\n",
      "50000/50000 [==============================] - 11s 222us/step - loss: 0.8503 - accuracy: 0.7222 - val_loss: 1.5079 - val_accuracy: 0.4908\n",
      "Epoch 32/50\n",
      "50000/50000 [==============================] - 11s 221us/step - loss: 0.8318 - accuracy: 0.7268 - val_loss: 1.5118 - val_accuracy: 0.4944\n",
      "Epoch 33/50\n",
      "50000/50000 [==============================] - 11s 223us/step - loss: 0.8101 - accuracy: 0.7390 - val_loss: 1.5088 - val_accuracy: 0.4936\n",
      "Epoch 34/50\n",
      "50000/50000 [==============================] - 11s 224us/step - loss: 0.7927 - accuracy: 0.7438 - val_loss: 1.5279 - val_accuracy: 0.4925\n",
      "Epoch 35/50\n",
      "50000/50000 [==============================] - 13s 254us/step - loss: 0.7732 - accuracy: 0.7509 - val_loss: 1.5336 - val_accuracy: 0.4927\n",
      "Epoch 36/50\n",
      "50000/50000 [==============================] - 11s 219us/step - loss: 0.7537 - accuracy: 0.7602 - val_loss: 1.5335 - val_accuracy: 0.4929\n",
      "Epoch 37/50\n",
      "50000/50000 [==============================] - 11s 219us/step - loss: 0.7356 - accuracy: 0.7687 - val_loss: 1.5515 - val_accuracy: 0.4890\n",
      "Epoch 38/50\n",
      "50000/50000 [==============================] - 11s 221us/step - loss: 0.7157 - accuracy: 0.7764 - val_loss: 1.5588 - val_accuracy: 0.4905\n",
      "Epoch 39/50\n",
      "50000/50000 [==============================] - 12s 245us/step - loss: 0.6973 - accuracy: 0.7820 - val_loss: 1.5707 - val_accuracy: 0.4868\n",
      "Epoch 40/50\n",
      "50000/50000 [==============================] - 16s 321us/step - loss: 0.6802 - accuracy: 0.7887 - val_loss: 1.5699 - val_accuracy: 0.4885\n",
      "Epoch 41/50\n",
      "50000/50000 [==============================] - 16s 314us/step - loss: 0.6602 - accuracy: 0.7982 - val_loss: 1.5714 - val_accuracy: 0.4871\n",
      "Epoch 42/50\n",
      "50000/50000 [==============================] - 16s 317us/step - loss: 0.6434 - accuracy: 0.8048 - val_loss: 1.6001 - val_accuracy: 0.4857\n",
      "Epoch 43/50\n",
      "50000/50000 [==============================] - 14s 271us/step - loss: 0.6272 - accuracy: 0.8106 - val_loss: 1.6133 - val_accuracy: 0.4813\n",
      "Epoch 44/50\n",
      "50000/50000 [==============================] - 11s 229us/step - loss: 0.6064 - accuracy: 0.8203 - val_loss: 1.6170 - val_accuracy: 0.4833\n",
      "Epoch 45/50\n",
      "50000/50000 [==============================] - 12s 237us/step - loss: 0.5908 - accuracy: 0.8264 - val_loss: 1.6216 - val_accuracy: 0.4896\n"
     ]
    },
    {
     "name": "stdout",
     "output_type": "stream",
     "text": [
      "Epoch 46/50\n",
      "50000/50000 [==============================] - 11s 212us/step - loss: 0.5720 - accuracy: 0.8330 - val_loss: 1.6480 - val_accuracy: 0.4863\n",
      "Epoch 47/50\n",
      "50000/50000 [==============================] - 11s 221us/step - loss: 0.5557 - accuracy: 0.8388 - val_loss: 1.6539 - val_accuracy: 0.4810\n",
      "Epoch 48/50\n",
      "50000/50000 [==============================] - 11s 222us/step - loss: 0.5391 - accuracy: 0.8459 - val_loss: 1.6565 - val_accuracy: 0.4888\n",
      "Epoch 49/50\n",
      "50000/50000 [==============================] - 12s 250us/step - loss: 0.5228 - accuracy: 0.8524 - val_loss: 1.6801 - val_accuracy: 0.4806\n",
      "Epoch 50/50\n",
      "50000/50000 [==============================] - 13s 256us/step - loss: 0.5051 - accuracy: 0.8582 - val_loss: 1.6950 - val_accuracy: 0.4825\n"
     ]
    },
    {
     "data": {
      "text/plain": [
       "<keras.callbacks.callbacks.History at 0x16532de7278>"
      ]
     },
     "execution_count": 23,
     "metadata": {},
     "output_type": "execute_result"
    }
   ],
   "source": [
    "model2 = build_mlp(input_shape=x_train.shape[1:])\n",
    "model2.summary()\n",
    "optimizer = keras.optimizers.SGD(lr=LEARNING_RATE, nesterov=True, momentum=MOMENTUM)\n",
    "model2.compile(loss=\"categorical_crossentropy\", metrics=[\"accuracy\"], optimizer=optimizer)\n",
    "\n",
    "model2.fit(x_train, y_train, \n",
    "          epochs=EPOCHS, \n",
    "          batch_size=BATCH_SIZE, \n",
    "          validation_data=(x_test, y_test), \n",
    "          shuffle=True,\n",
    "          callbacks=[model_ckpt2]\n",
    "         )"
   ]
  },
  {
   "cell_type": "code",
   "execution_count": 24,
   "metadata": {},
   "outputs": [
    {
     "ename": "AttributeError",
     "evalue": "'NoneType' object has no attribute 'evaluate'",
     "output_type": "error",
     "traceback": [
      "\u001b[1;31m---------------------------------------------------------------------------\u001b[0m",
      "\u001b[1;31mAttributeError\u001b[0m                            Traceback (most recent call last)",
      "\u001b[1;32m<ipython-input-24-089489974927>\u001b[0m in \u001b[0;36m<module>\u001b[1;34m\u001b[0m\n\u001b[0;32m      7\u001b[0m \u001b[1;31m# Load back\u001b[0m\u001b[1;33m\u001b[0m\u001b[1;33m\u001b[0m\u001b[1;33m\u001b[0m\u001b[0m\n\u001b[0;32m      8\u001b[0m \u001b[0mmodel2_1\u001b[0m \u001b[1;33m=\u001b[0m \u001b[0mmodel2\u001b[0m\u001b[1;33m.\u001b[0m\u001b[0mload_weights\u001b[0m\u001b[1;33m(\u001b[0m\u001b[1;34m\"./tmp2.h5\"\u001b[0m\u001b[1;33m)\u001b[0m\u001b[1;33m\u001b[0m\u001b[1;33m\u001b[0m\u001b[0m\n\u001b[1;32m----> 9\u001b[1;33m \u001b[0mloss_loadback\u001b[0m\u001b[1;33m,\u001b[0m \u001b[0macc_loadback\u001b[0m \u001b[1;33m=\u001b[0m \u001b[0mmodel2_1\u001b[0m\u001b[1;33m.\u001b[0m\u001b[0mevaluate\u001b[0m\u001b[1;33m(\u001b[0m\u001b[0mx_test\u001b[0m\u001b[1;33m,\u001b[0m \u001b[0my_test\u001b[0m\u001b[1;33m)\u001b[0m\u001b[1;33m\u001b[0m\u001b[1;33m\u001b[0m\u001b[0m\n\u001b[0m",
      "\u001b[1;31mAttributeError\u001b[0m: 'NoneType' object has no attribute 'evaluate'"
     ]
    }
   ],
   "source": [
    "# Collect results\n",
    "train_loss = model2.history.history[\"loss\"]\n",
    "valid_loss = model2.history.history[\"val_loss\"]\n",
    "train_acc = model2.history.history[\"accuracy\"]\n",
    "valid_acc = model2.history.history[\"val_accuracy\"]\n",
    "\n",
    "# Load back\n",
    "model2_1 = model2.load_weights(\"./tmp2.h5\")\n",
    "loss_loadback, acc_loadback = model2_1.evaluate(x_test, y_test)"
   ]
  },
  {
   "cell_type": "code",
   "execution_count": null,
   "metadata": {},
   "outputs": [],
   "source": [
    "plt.plot(range(len(train_loss)), train_loss, label=\"train loss\")\n",
    "plt.plot(range(len(valid_loss)), valid_loss, label=\"valid loss\")\n",
    "plt.hlines(y=loss_loadback, xmin=0, xmax=len(train_loss), colors='r', linestyles='--')\n",
    "plt.legend()\n",
    "plt.title(\"Loss_With_save_weights_only\")\n",
    "plt.show()\n",
    "\n",
    "plt.plot(range(len(train_acc)), train_acc, label=\"train accuracy\")\n",
    "plt.plot(range(len(valid_acc)), valid_acc, label=\"valid accuracy\")\n",
    "plt.hlines(y=acc_loadback, xmin=0, xmax=len(train_loss), colors='r', linestyles='--')\n",
    "plt.legend()\n",
    "plt.title(\"Accuracy_With_save_weights_only\")\n",
    "plt.show()"
   ]
  },
  {
   "cell_type": "markdown",
   "metadata": {},
   "source": [
    "### Reset ipynb"
   ]
  },
  {
   "cell_type": "code",
   "execution_count": null,
   "metadata": {},
   "outputs": [],
   "source": []
  }
 ],
 "metadata": {
  "kernelspec": {
   "display_name": "Python 3",
   "language": "python",
   "name": "python3"
  },
  "language_info": {
   "codemirror_mode": {
    "name": "ipython",
    "version": 3
   },
   "file_extension": ".py",
   "mimetype": "text/x-python",
   "name": "python",
   "nbconvert_exporter": "python",
   "pygments_lexer": "ipython3",
   "version": "3.7.3"
  }
 },
 "nbformat": 4,
 "nbformat_minor": 2
}
