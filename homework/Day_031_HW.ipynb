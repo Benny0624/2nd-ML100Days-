{
 "cells": [
  {
   "cell_type": "markdown",
   "metadata": {},
   "source": [
    "## 練習時間"
   ]
  },
  {
   "cell_type": "markdown",
   "metadata": {},
   "source": [
    "請觀看台大電機李宏毅教授的影片。李教授會用非常淺顯易懂的方式介紹甚麼是機器學習。\n"
   ]
  },
  {
   "cell_type": "markdown",
   "metadata": {},
   "source": [
    "[youtube](https://www.youtube.com/watch?v=CXgbekl66jc)"
   ]
  },
  {
   "cell_type": "markdown",
   "metadata": {},
   "source": [
    "## 請找出一個你認為機器學習可以發光發熱的領域並闡述原因? "
   ]
  },
  {
   "cell_type": "markdown",
   "metadata": {},
   "source": [
    "   #### 影片中李教授清楚的區分了Handcrafted rule 與 真實機器做學習的Machine Learning的不同，比起寫出一堆if告訴機器千百種狀況，       寫出能讓機器真正具有\"智慧\"的，才真正能夠稱為人工智慧。\n",
    "   #### 依照上面觀點，絕對是能夠從錯誤中學習的Reinforcement learning最有資格稱作為人工智慧，但其困難點在於，技術上較為困難，        加上主流的機器學習又是以監督式學習: 分類、回歸以及結構式為主，連宏片全球的機器棋王:AlfaGo都不完全只有依靠Reinforcement            learning，所以我認為現下最有發展性的技術還是ML中最受矚目的深度學習。\n",
    "   #### 深度學習是近代機器學習發展到最多人研究也最熱門的技術，除了基本的CNN和RNN，生成式對抗網路GAN更是能夠做到生成完全是      由電腦創造的不屬於真實世界的圖像，比起簡單的圖像便是更有\"智慧\"的味道，所以這是我認為DL有扛起機器學習未來大樑的潛力之原            因。"
   ]
  }
 ],
 "metadata": {
  "kernelspec": {
   "display_name": "Python 3",
   "language": "python",
   "name": "python3"
  },
  "language_info": {
   "codemirror_mode": {
    "name": "ipython",
    "version": 3
   },
   "file_extension": ".py",
   "mimetype": "text/x-python",
   "name": "python",
   "nbconvert_exporter": "python",
   "pygments_lexer": "ipython3",
   "version": "3.7.3"
  }
 },
 "nbformat": 4,
 "nbformat_minor": 2
}
