{
 "cells": [
  {
   "cell_type": "code",
   "execution_count": 1,
   "metadata": {},
   "outputs": [],
   "source": [
    "import pandas as pd\n",
    "\n",
    "historydf= pd.read_csv('C:/Users/veryv/OneDrive/桌面/Stock_data/full_history/A.csv', index_col=0 )\n",
    "historydf.dropna(how='any',inplace=True)"
   ]
  },
  {
   "cell_type": "code",
   "execution_count": 7,
   "metadata": {},
   "outputs": [
    {
     "name": "stderr",
     "output_type": "stream",
     "text": [
      "C:\\Users\\veryv\\Anaconda3\\lib\\site-packages\\sklearn\\utils\\validation.py:595: DataConversionWarning: Data with input dtype int64 was converted to float64 by MinMaxScaler.\n",
      "  warnings.warn(msg, DataConversionWarning)\n"
     ]
    }
   ],
   "source": [
    "from sklearn import preprocessing\n",
    "\n",
    "def normalize(df):\n",
    "    newdf= df.copy()\n",
    "    min_max_scaler = preprocessing.MinMaxScaler()\n",
    "    \n",
    "    newdf['open'] = min_max_scaler.fit_transform(df.open.values.reshape(-1,1))\n",
    "    newdf['low'] = min_max_scaler.fit_transform(df.low.values.reshape(-1,1))\n",
    "    newdf['high'] = min_max_scaler.fit_transform(df.high.values.reshape(-1,1))\n",
    "    newdf['volume'] = min_max_scaler.fit_transform(df.volume.values.reshape(-1,1))\n",
    "    newdf['close'] = min_max_scaler.fit_transform(df.close.values.reshape(-1,1))\n",
    "    newdf['adjclose'] = min_max_scaler.fit_transform(df.adjclose.values.reshape(-1,1))\n",
    "    \n",
    "    return newdf\n",
    "\n",
    "historydf_norm= normalize(historydf)\n"
   ]
  },
  {
   "cell_type": "code",
   "execution_count": 42,
   "metadata": {},
   "outputs": [],
   "source": [
    "historydf_norm=historydf_norm.astype('float32')"
   ]
  },
  {
   "cell_type": "code",
   "execution_count": 19,
   "metadata": {},
   "outputs": [
    {
     "data": {
      "text/html": [
       "<div>\n",
       "<style scoped>\n",
       "    .dataframe tbody tr th:only-of-type {\n",
       "        vertical-align: middle;\n",
       "    }\n",
       "\n",
       "    .dataframe tbody tr th {\n",
       "        vertical-align: top;\n",
       "    }\n",
       "\n",
       "    .dataframe thead th {\n",
       "        text-align: right;\n",
       "    }\n",
       "</style>\n",
       "<table border=\"1\" class=\"dataframe\">\n",
       "  <thead>\n",
       "    <tr style=\"text-align: right;\">\n",
       "      <th></th>\n",
       "      <th>volume</th>\n",
       "      <th>open</th>\n",
       "      <th>close</th>\n",
       "      <th>high</th>\n",
       "      <th>low</th>\n",
       "      <th>adjclose</th>\n",
       "    </tr>\n",
       "    <tr>\n",
       "      <th>date</th>\n",
       "      <th></th>\n",
       "      <th></th>\n",
       "      <th></th>\n",
       "      <th></th>\n",
       "      <th></th>\n",
       "      <th></th>\n",
       "    </tr>\n",
       "  </thead>\n",
       "  <tbody>\n",
       "    <tr>\n",
       "      <th>2019-04-18</th>\n",
       "      <td>0.037756</td>\n",
       "      <td>0.654993</td>\n",
       "      <td>0.645533</td>\n",
       "      <td>0.635467</td>\n",
       "      <td>0.704709</td>\n",
       "      <td>0.755011</td>\n",
       "    </tr>\n",
       "    <tr>\n",
       "      <th>2019-04-17</th>\n",
       "      <td>0.063523</td>\n",
       "      <td>0.678277</td>\n",
       "      <td>0.638550</td>\n",
       "      <td>0.651961</td>\n",
       "      <td>0.695874</td>\n",
       "      <td>0.746964</td>\n",
       "    </tr>\n",
       "    <tr>\n",
       "      <th>2019-04-16</th>\n",
       "      <td>0.046906</td>\n",
       "      <td>0.703967</td>\n",
       "      <td>0.658555</td>\n",
       "      <td>0.676424</td>\n",
       "      <td>0.724250</td>\n",
       "      <td>0.770016</td>\n",
       "    </tr>\n",
       "    <tr>\n",
       "      <th>2019-04-15</th>\n",
       "      <td>0.017651</td>\n",
       "      <td>0.705699</td>\n",
       "      <td>0.685449</td>\n",
       "      <td>0.677999</td>\n",
       "      <td>0.752522</td>\n",
       "      <td>0.801006</td>\n",
       "    </tr>\n",
       "    <tr>\n",
       "      <th>2019-04-12</th>\n",
       "      <td>0.011556</td>\n",
       "      <td>0.709836</td>\n",
       "      <td>0.690922</td>\n",
       "      <td>0.686617</td>\n",
       "      <td>0.762812</td>\n",
       "      <td>0.807313</td>\n",
       "    </tr>\n",
       "  </tbody>\n",
       "</table>\n",
       "</div>"
      ],
      "text/plain": [
       "              volume      open     close      high       low  adjclose\n",
       "date                                                                  \n",
       "2019-04-18  0.037756  0.654993  0.645533  0.635467  0.704709  0.755011\n",
       "2019-04-17  0.063523  0.678277  0.638550  0.651961  0.695874  0.746964\n",
       "2019-04-16  0.046906  0.703967  0.658555  0.676424  0.724250  0.770016\n",
       "2019-04-15  0.017651  0.705699  0.685449  0.677999  0.752522  0.801006\n",
       "2019-04-12  0.011556  0.709836  0.690922  0.686617  0.762812  0.807313"
      ]
     },
     "execution_count": 19,
     "metadata": {},
     "output_type": "execute_result"
    }
   ],
   "source": [
    "historydf_norm.head()"
   ]
  },
  {
   "cell_type": "code",
   "execution_count": 55,
   "metadata": {},
   "outputs": [
    {
     "name": "stderr",
     "output_type": "stream",
     "text": [
      "C:\\Users\\veryv\\Anaconda3\\lib\\site-packages\\ipykernel_launcher.py:8: FutureWarning: Method .as_matrix will be removed in a future version. Use .values instead.\n",
      "  \n"
     ]
    }
   ],
   "source": [
    "import numpy as np\n",
    "\n",
    "def data_split(data,sample):\n",
    "    # 資料維度: 開盤價、收盤價、最高價、最低價、成交量... 6維\n",
    "    feature = len(data.columns)\n",
    "    \n",
    "    # 將dataframe 轉成 numpy array\n",
    "    data = data.as_matrix()\n",
    "    newdata = []\n",
    "    y_data = []\n",
    "    # 若想要觀察的 time_frame 為20天, 需要多加一天做為驗證答案\n",
    "    for i in range(len(data)-sample):# 從 datavalue 的第0個跑到倒數第 time_frame+1 個\n",
    "        newdata.append(data[i:(i+sample)])# 逐筆取出 time_frame+1 個 K棒數值做為一筆 instance\n",
    "        y_data.append(data[i+sample,-1:])\n",
    "        \n",
    "    n_train = round(0.8*len(newdata))# 取 result 的前 80% instance做為訓練資料\n",
    "    newdata = np.array(newdata)\n",
    "    \n",
    "    x_train = newdata[:int(n_train), :-1] # 訓練資料中, 只取每一個 time_frame 中除了最後一筆的所有資料做為feature\n",
    "    y_train = y_data[:int(n_train)] # 訓練資料中, 取每一個 time_frame 中最後一筆資料的最後一個數值(收盤價)做為答案\n",
    "    \n",
    "    # 測試資料\n",
    "    x_test = newdata[int(n_train):,:-1]\n",
    "    y_test = newdata[int(n_train):,-1:]\n",
    "    \n",
    "    # 將資料組成變好看一點\n",
    "    x_train = x_train.reshape(-1, 1, 2)\n",
    "    y_train = x_train.reshape(-1, 1, 2)\n",
    "    x_test = x_test.reshape(-1, 1, 2)\n",
    "    \n",
    "    return x_train,y_train,x_test,y_test\n",
    "\n",
    "# 以30天為一區間進行股價預測\n",
    "x_train,y_train,x_test,y_test = data_split(historydf_norm,2)"
   ]
  },
  {
   "cell_type": "code",
   "execution_count": 56,
   "metadata": {
    "scrolled": true
   },
   "outputs": [
    {
     "data": {
      "text/plain": [
       "(11718, 1, 2)"
      ]
     },
     "execution_count": 56,
     "metadata": {},
     "output_type": "execute_result"
    }
   ],
   "source": [
    "x_train.shape"
   ]
  },
  {
   "cell_type": "code",
   "execution_count": 57,
   "metadata": {},
   "outputs": [
    {
     "data": {
      "text/plain": [
       "(11718, 1, 2)"
      ]
     },
     "execution_count": 57,
     "metadata": {},
     "output_type": "execute_result"
    }
   ],
   "source": [
    "y_train.shape"
   ]
  },
  {
   "cell_type": "code",
   "execution_count": 59,
   "metadata": {},
   "outputs": [],
   "source": [
    "x_train = torch.from_numpy(x_train)\n",
    "y_train = torch.from_numpy(y_train)\n",
    "x_test = torch.from_numpy(x_test)"
   ]
  },
  {
   "cell_type": "code",
   "execution_count": 35,
   "metadata": {},
   "outputs": [],
   "source": [
    "import numpy as np \n",
    "import pandas as pd \n",
    "import matplotlib.pyplot as plt \n",
    "import torch \n",
    "from torch import nn\n",
    "from torch.autograd import Variable"
   ]
  },
  {
   "cell_type": "code",
   "execution_count": 49,
   "metadata": {},
   "outputs": [],
   "source": [
    "from torch import nn\n",
    "from torch.autograd import Variable\n",
    "\n",
    "#定義模型\n",
    "class lstm_reg(nn.Module):\n",
    "    def __init__(self, input_size, hidden_size, output_size=1, num_layers=2):\n",
    "            super(lstm_reg, self).__init__()\n",
    "            self.rnn = nn.LSTM(input_size, hidden_size, num_layers)\n",
    "            self.reg = nn.Linear(hidden_size, output_size)\n",
    "          \n",
    "    def forward(self, x):\n",
    "        x, _ = self.rnn(x) \n",
    "        s, b, h = x.shape  #(seq, batch, hidden)\n",
    "        x = x.view(s*b, h) #轉化為線性層的輸入方式\n",
    "        x = self.reg(x)\n",
    "        x = x.view(s, b, -1)\n",
    "        return x\n",
    "#定義好網路結構，輸入的維度是 2，因為我們使用兩個月的流量作為輸入，隱藏層的維度可以任意指定，這裡我們選的 4\n",
    "net = lstm_reg(2, 4)\n",
    "criterion = nn.MSELoss()\n",
    "optimizer = torch.optim.Adam(net.parameters(), lr=1e-2)"
   ]
  },
  {
   "cell_type": "code",
   "execution_count": 61,
   "metadata": {
    "scrolled": true
   },
   "outputs": [],
   "source": [
    "for e in range(10):\n",
    "    var_x = Variable(x_train)\n",
    "    var_y = Variable(y_train)\n",
    " \n",
    "    out = net(var_x)\n",
    "    loss = criterion(out, var_y)\n",
    " \n",
    "    optimizer.zero_grad()\n",
    "    loss.backward()\n",
    "    optimizer.step()\n",
    "    if (e+1)%100 == 0:\n",
    "        print('Epoch: {}, Loss:{:.5f}'.format(e+1, loss.data[0]))\n",
    "        \n",
    "torch.save(net.state_dict(), 'net_params.pkl')"
   ]
  },
  {
   "cell_type": "code",
   "execution_count": 62,
   "metadata": {},
   "outputs": [],
   "source": [
    "var_data = Variable(x_test)\n",
    "pred_test = net(var_data) # 测试集的预测结果\n",
    "pred_test = pred_test.view(-1).data.numpy()"
   ]
  },
  {
   "cell_type": "code",
   "execution_count": 73,
   "metadata": {},
   "outputs": [],
   "source": [
    "y_test = y_test.reshape(-1,)"
   ]
  },
  {
   "cell_type": "code",
   "execution_count": 74,
   "metadata": {
    "scrolled": true
   },
   "outputs": [
    {
     "data": {
      "image/png": "[encoded data removed]",
      "text/plain": [
       "<Figure size 432x288 with 1 Axes>"
      ]
     },
     "metadata": {
      "needs_background": "light"
     },
     "output_type": "display_data"
    }
   ],
   "source": [
    "plt.plot(pred_test, 'r', label='prediction')\n",
    "plt.plot(y_test, 'b', label='real')\n",
    "plt.legend(loc='best')\n",
    "plt.show()"
   ]
  }
 ],
 "metadata": {
  "kernelspec": {
   "display_name": "Python 3",
   "language": "python",
   "name": "python3"
  },
  "language_info": {
   "codemirror_mode": {
    "name": "ipython",
    "version": 3
   },
   "file_extension": ".py",
   "mimetype": "text/x-python",
   "name": "python",
   "nbconvert_exporter": "python",
   "pygments_lexer": "ipython3",
   "version": "3.6.8"
  }
 },
 "nbformat": 4,
 "nbformat_minor": 2
}
