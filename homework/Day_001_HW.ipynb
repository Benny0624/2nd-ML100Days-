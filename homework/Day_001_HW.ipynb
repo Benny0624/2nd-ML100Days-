{
 "cells": [
  {
   "cell_type": "markdown",
   "metadata": {},
   "source": [
    "### 作業一"
   ]
  },
  {
   "cell_type": "markdown",
   "metadata": {},
   "source": [
    "#### 資料: Heart Disease UCI(https://archive.ics.uci.edu/ml/datasets/Heart+Disease)\n",
    "   \n",
    "#### 1. 你選的這組資料為何重要:\n",
    "\n",
    "    此筆Heart Disease UCI資料是用來研究心臟病程度的資料，非常有意義也很有價值，對於醫療資料因為有個資的問題，取得上比較困難，更別說拿來做研究了，有一組完整且可以拿來研究疾病成因(運用Classification分類法找出嚴重程度不同的患者的共同特徵)促進人類福祉的資料，是我對它有興趣的原因，也是為何我覺得此筆資料很重要\n",
    "    \n",
    "    \n",
    "#### 2. 資料從何而來 (tips: 譬如提供者是誰、以什麼方式蒐集)\n",
    "    \n",
    "    此筆資料有四個來源，分別是:\n",
    "    1. Hungarian Institute of Cardiology. Budapest: Andras Janosi, M.D. \n",
    "    2. University Hospital, Zurich, Switzerland: William Steinbrunn, M.D. \n",
    "    3. University Hospital, Basel, Switzerland: Matthias Pfisterer, M.D. \n",
    "    4. V.A. Medical Center, Long Beach and Cleveland Clinic Foundation: Robert Detrano, M.D., Ph.D. \n",
    "    \n",
    "    其中只有Cleveland Database被ML拿來做應用，全部資料包含76個變數，但現有研究有用到的，只有其中14個變數\n",
    "    \n",
    "    \n",
    "#### 3. 蒐集而來的資料型態為何\n",
    "    \n",
    "    本筆資料屬於結構化的數值資料，包含年齡、血壓、性別等等資訊\n",
    "    \n",
    "\n",
    "#### 4. 這組資料想解決的問題如何評估\n",
    "    \n",
    "    此組資料最後是將沒有得心臟病到嚴重心臟病分5個等級，從0~4，我認為此為ML中診斷的Classification(supervised)問題，所以我認為Accuracy(診斷正確率)以及Precision(診斷有心臟病中真的有心臟病的比率)，就很重要，可以當作評斷學習效果的標準"
   ]
  },
  {
   "cell_type": "markdown",
   "metadata": {},
   "source": [
    "### 作業二 "
   ]
  },
  {
   "cell_type": "markdown",
   "metadata": {},
   "source": [
    "想像你經營一個自由載客車隊，你希望能透過數據分析以提升業績，請你思考並描述你如何規劃整體的分析/解決方案：\n",
    "\n",
    "#### 1. 核心問題為何 (tips：如何定義 「提升業績 & 你的假設」)\n",
    "    假設我經營的是像Uber這種有系統的載客公司，短期內底下司機數量固定為n，車子為司機個人擁有，公司固定資產僅辦公室，其他花費如租金、人事及RD(app開發)等費用；有自己的營收報告、載客資料以及評論評分等等，這樣問題量化就簡單的許多，可以從許多財務指標去定義業績之提升如:\n",
    "    1.稅後盈餘的每月增長率\n",
    "    2.個別司機對營收的貢獻度(個別司機創造營收/總營收 * 100%)\n",
    "    或是可以從app資料的角度定義如:\n",
    "    1.載客量月提升率\n",
    "    2.平均客單金額增長率\n",
    "    3.個別司機客單金額貢獻度(個別司機月平均客單金額/總平均客單金額)\n",
    "    亦可將客戶運用ML之分群技術分群，做進一步的行銷以提升業績\n",
    "\n",
    "\n",
    "#### 2. 資料從何而來 (tips：哪些資料可能會對你想問的問題產生影響 & 資料如何蒐集)\n",
    "    月營收報告&APP後臺資料\n",
    "\n",
    "\n",
    "#### 3. 蒐集而來的資料型態為何\n",
    "    皆為結構化的數值資料，載客數據、金額\n",
    "\n",
    "#### 4. 你要回答的問題，其如何評估 (tips：你的假設如何驗證)\n",
    "    設定多項目標，先是總目標，即公司總營收要增長多少，再設計個別指標，如個別司機載客量月增長要達成多少、客單金額要增長多少等等\n",
    "    將公司總目標拆解成員工的個別執行目標，以達上下目標一致。"
   ]
  },
  {
   "cell_type": "markdown",
   "metadata": {},
   "source": [
    "### 作業三"
   ]
  },
  {
   "cell_type": "markdown",
   "metadata": {},
   "source": [
    "## 練習時間\n",
    "#### 請寫一個函式用來計算 Mean Square Error\n",
    "$ MSE = \\frac{1}{n}\\sum_{i=1}^{n}{(Y_i - \\hat{Y}_i)^2} $\n",
    "\n",
    "### Hint: [如何取平方](https://googoodesign.gitbooks.io/-ezpython/unit-1.html)"
   ]
  },
  {
   "cell_type": "code",
   "execution_count": 1,
   "metadata": {},
   "outputs": [],
   "source": [
    "import numpy as np\n",
    "import matplotlib.pyplot as plt"
   ]
  },
  {
   "cell_type": "code",
   "execution_count": 2,
   "metadata": {},
   "outputs": [],
   "source": [
    "def mean_squared_error(y, yp):\n",
    "    \"\"\"\n",
    "    計算 MSE\n",
    "    Args:\n",
    "        - y: 實際值\n",
    "        - yp: 預測值\n",
    "    Return:\n",
    "        - mse: MSE\n",
    "    \"\"\"\n",
    "    mse = MSE = sum((y - yp) ** 2) / len(y)\n",
    "    return mse"
   ]
  },
  {
   "cell_type": "code",
   "execution_count": 9,
   "metadata": {},
   "outputs": [],
   "source": [
    "def mean_absolute_error(y, yp):\n",
    "    \"\"\"\n",
    "    計算 MAE\n",
    "    Args:\n",
    "        - y: 實際值\n",
    "        - yp: 預測值\n",
    "    Return:\n",
    "        - mae: MAE\n",
    "    \"\"\"\n",
    "    mae = MAE = sum(abs(y - yp)) / len(y)\n",
    "    return mae"
   ]
  },
  {
   "cell_type": "code",
   "execution_count": 6,
   "metadata": {
    "scrolled": true
   },
   "outputs": [
    {
     "data": {
      "image/png": "[encoded data removed]",
      "text/plain": [
       "<Figure size 432x288 with 1 Axes>"
      ]
     },
     "metadata": {
      "needs_background": "light"
     },
     "output_type": "display_data"
    }
   ],
   "source": [
    "w = 3\n",
    "b = 0.5\n",
    "\n",
    "x_lin = np.linspace(0, 100, 101)\n",
    "\n",
    "y = (x_lin + np.random.randn(101) * 5) * w + b\n",
    "\n",
    "plt.plot(x_lin, y, 'b.', label = 'data points')\n",
    "plt.title(\"Assume we have data points\")\n",
    "plt.legend(loc = 2)\n",
    "plt.show()"
   ]
  },
  {
   "cell_type": "code",
   "execution_count": 7,
   "metadata": {},
   "outputs": [
    {
     "data": {
      "image/png": "[encoded data removed]",
      "text/plain": [
       "<Figure size 432x288 with 1 Axes>"
      ]
     },
     "metadata": {
      "needs_background": "light"
     },
     "output_type": "display_data"
    }
   ],
   "source": [
    "y_hat = x_lin * w + b\n",
    "plt.plot(x_lin, y, 'b.', label = 'data')\n",
    "plt.plot(x_lin, y_hat, 'r-', label = 'prediction')\n",
    "plt.title(\"Assume we have data points (And the prediction)\")\n",
    "plt.legend(loc = 2)\n",
    "plt.show()"
   ]
  },
  {
   "cell_type": "code",
   "execution_count": 10,
   "metadata": {},
   "outputs": [
    {
     "name": "stdout",
     "output_type": "stream",
     "text": [
      "The Mean squared error is 163.591\n",
      "The Mean absolute error is 10.521\n"
     ]
    }
   ],
   "source": [
    "# 執行 Function, 確認有沒有正常執行\n",
    "MSE = mean_squared_error(y, y_hat)\n",
    "MAE = mean_absolute_error(y, y_hat)\n",
    "print(\"The Mean squared error is %.3f\" % (MSE))\n",
    "print(\"The Mean absolute error is %.3f\" % (MAE))"
   ]
  }
 ],
 "metadata": {
  "anaconda-cloud": {},
  "kernelspec": {
   "display_name": "Python 3",
   "language": "python",
   "name": "python3"
  },
  "language_info": {
   "codemirror_mode": {
    "name": "ipython",
    "version": 3
   },
   "file_extension": ".py",
   "mimetype": "text/x-python",
   "name": "python",
   "nbconvert_exporter": "python",
   "pygments_lexer": "ipython3",
   "version": "3.6.8"
  }
 },
 "nbformat": 4,
 "nbformat_minor": 1
}
