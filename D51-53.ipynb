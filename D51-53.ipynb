{
 "cells": [
  {
   "cell_type": "code",
   "execution_count": 16,
   "metadata": {},
   "outputs": [],
   "source": [
    "#  import  data\n",
    "#  remove  Coupon_id  is  null\n",
    "import  os\n",
    "import  numpy  as  np\n",
    "import  pandas  as  pd\n",
    "import  datetime\n",
    "import math\n",
    "\n",
    "dfoff  =  pd.read_csv('train_offline.csv')\n",
    "dftest_  =  pd.read_csv('test_offline.csv')\n",
    "\n",
    "dftest_  =  dftest_[~dftest_.Coupon_id.isnull()]\n",
    "dfoff  =  dfoff[~dfoff.Coupon_id.isnull()]"
   ]
  },
  {
   "cell_type": "code",
   "execution_count": 17,
   "metadata": {
    "scrolled": false
   },
   "outputs": [
    {
     "name": "stdout",
     "output_type": "stream",
     "text": [
      "(array([], dtype=int64),)\n",
      "(array([], dtype=int64),)\n"
     ]
    }
   ],
   "source": [
    "#  Check  Coupon_id  null\n",
    "print(np.where(dftest_['Date_received'].isnull()))\n",
    "print(np.where(dfoff['Date_received'].isnull()))"
   ]
  },
  {
   "cell_type": "code",
   "execution_count": 18,
   "metadata": {
    "collapsed": true
   },
   "outputs": [],
   "source": [
    "# Reset_Index\n",
    "dfoff  =  dfoff.reset_index(drop = True)"
   ]
  },
  {
   "cell_type": "code",
   "execution_count": 19,
   "metadata": {},
   "outputs": [
    {
     "data": {
      "text/plain": [
       "-1    708118\n",
       " 1     32219\n",
       " 0      6632\n",
       "Name: Label, dtype: int64"
      ]
     },
     "execution_count": 19,
     "metadata": {},
     "output_type": "execute_result"
    }
   ],
   "source": [
    "#  DateTime  processing\n",
    "def  Get_Days(x,  y):\n",
    "        if  not math.isnan(x):\n",
    "                d1  =  pd.to_datetime(x, format =  '%Y%m%d')\n",
    "                d2  =  pd.to_datetime(y, format =  '%Y%m%d')\n",
    "                delta  =  d1 - d2\n",
    "                return  delta.days\n",
    "        else:\n",
    "                return  np.nan\n",
    "def  Tag(row):\n",
    "        if  Get_Days(row['Date'],  row['Date_received'])  >  0:\n",
    "                if  Get_Days(row['Date'],  row['Date_received'])  <=  15:\n",
    "                        return  1\n",
    "                else  :\n",
    "                        return  0\n",
    "        else  :\n",
    "                return  -1\n",
    "#  Label  the  Coupon  Using  time\n",
    "dfoff['Label']  =  dfoff.apply(Tag,  axis = 1)\n",
    "dfoff['Label'].value_counts()"
   ]
  },
  {
   "cell_type": "code",
   "execution_count": 20,
   "metadata": {
    "collapsed": true
   },
   "outputs": [],
   "source": [
    "# Create feature (Week_day)\n",
    "def getWeekday(row):\n",
    "    if math.isnan(row):\n",
    "        return row\n",
    "    else:\n",
    "        return pd.to_datetime(row, format = '%Y%m%d').dayofweek+1\n",
    "\n",
    "dfoff['weekday'] = dfoff['Date_received'].apply(getWeekday)\n",
    "dftest_['weekday'] = dftest_['Date_received'].apply(getWeekday) \n",
    "\n",
    "dfoff['weekend'] = dfoff['weekday'].apply(lambda x : 1 if x in [6,7] else 0 )\n",
    "dftest_['weekend'] = dftest_['weekday'].apply(lambda x : 1 if x in [6,7] else 0)"
   ]
  },
  {
   "cell_type": "code",
   "execution_count": 21,
   "metadata": {},
   "outputs": [
    {
     "name": "stdout",
     "output_type": "stream",
     "text": [
      "['weekday_1', 'weekday_2', 'weekday_3', 'weekday_4', 'weekday_5', 'weekday_6', 'weekday_7']\n"
     ]
    }
   ],
   "source": [
    "# Dummy_var of weekday\n",
    "weekdaycols = ['weekday_' + str(i) for i in range(1,8)]\n",
    "print(weekdaycols)\n",
    "\n",
    "tmpdf = pd.get_dummies(dfoff['weekday'])\n",
    "tmpdf.columns = weekdaycols\n",
    "dfoff[weekdaycols] = tmpdf\n",
    "\n",
    "tmpdf = pd.get_dummies(dftest_['weekday'])\n",
    "tmpdf.columns = weekdaycols\n",
    "dftest_[weekdaycols] = tmpdf"
   ]
  },
  {
   "cell_type": "code",
   "execution_count": 22,
   "metadata": {
    "collapsed": true
   },
   "outputs": [],
   "source": [
    "# deal with discount_rate\n",
    "def DiscountType(row):\n",
    "    if ':' in row:\n",
    "        return 1\n",
    "    else:\n",
    "        return 0\n",
    "def ConvertRate(row):\n",
    "    if ':' in row:\n",
    "        split = row.split(':')\n",
    "        return 1.0 - float(split[1]) / float(split[0])\n",
    "    else:\n",
    "        return float(row)\n",
    "def preprocessing(df):\n",
    "    #convert discount_rate\n",
    "    df['discount_rate'] = df['Discount_rate'].apply(ConvertRate)\n",
    "    df['discount_type'] = df['Discount_rate'].apply(DiscountType)\n",
    "    #dael with distance\n",
    "    df.Distance = df.Distance.fillna(round(dftest.Distance.mean(), 1))\n",
    "    return df\n",
    "dfoff = preprocessing(dfoff)\n",
    "dftest_ = preprocessing(dftest_)"
   ]
  },
  {
   "cell_type": "code",
   "execution_count": 23,
   "metadata": {
    "scrolled": false
   },
   "outputs": [
    {
     "data": {
      "text/html": [
       "<div>\n",
       "<style>\n",
       "    .dataframe thead tr:only-child th {\n",
       "        text-align: right;\n",
       "    }\n",
       "\n",
       "    .dataframe thead th {\n",
       "        text-align: left;\n",
       "    }\n",
       "\n",
       "    .dataframe tbody tr th {\n",
       "        vertical-align: top;\n",
       "    }\n",
       "</style>\n",
       "<table border=\"1\" class=\"dataframe\">\n",
       "  <thead>\n",
       "    <tr style=\"text-align: right;\">\n",
       "      <th></th>\n",
       "      <th>User_id</th>\n",
       "      <th>Merchant_id</th>\n",
       "      <th>Coupon_id</th>\n",
       "      <th>Discount_rate</th>\n",
       "      <th>Distance</th>\n",
       "      <th>Date_received</th>\n",
       "      <th>Date</th>\n",
       "      <th>Label</th>\n",
       "      <th>weekday</th>\n",
       "      <th>weekend</th>\n",
       "      <th>weekday_1</th>\n",
       "      <th>weekday_2</th>\n",
       "      <th>weekday_3</th>\n",
       "      <th>weekday_4</th>\n",
       "      <th>weekday_5</th>\n",
       "      <th>weekday_6</th>\n",
       "      <th>weekday_7</th>\n",
       "      <th>discount_rate</th>\n",
       "      <th>discount_type</th>\n",
       "    </tr>\n",
       "  </thead>\n",
       "  <tbody>\n",
       "    <tr>\n",
       "      <th>0</th>\n",
       "      <td>1439408</td>\n",
       "      <td>2632</td>\n",
       "      <td>8591.0</td>\n",
       "      <td>20:1</td>\n",
       "      <td>0.0</td>\n",
       "      <td>20160217.0</td>\n",
       "      <td>NaN</td>\n",
       "      <td>-1</td>\n",
       "      <td>3</td>\n",
       "      <td>0</td>\n",
       "      <td>0</td>\n",
       "      <td>0</td>\n",
       "      <td>1</td>\n",
       "      <td>0</td>\n",
       "      <td>0</td>\n",
       "      <td>0</td>\n",
       "      <td>0</td>\n",
       "      <td>0.95</td>\n",
       "      <td>1</td>\n",
       "    </tr>\n",
       "    <tr>\n",
       "      <th>1</th>\n",
       "      <td>1439408</td>\n",
       "      <td>2632</td>\n",
       "      <td>1078.0</td>\n",
       "      <td>20:1</td>\n",
       "      <td>0.0</td>\n",
       "      <td>20160319.0</td>\n",
       "      <td>NaN</td>\n",
       "      <td>-1</td>\n",
       "      <td>6</td>\n",
       "      <td>1</td>\n",
       "      <td>0</td>\n",
       "      <td>0</td>\n",
       "      <td>0</td>\n",
       "      <td>0</td>\n",
       "      <td>0</td>\n",
       "      <td>1</td>\n",
       "      <td>0</td>\n",
       "      <td>0.95</td>\n",
       "      <td>1</td>\n",
       "    </tr>\n",
       "    <tr>\n",
       "      <th>2</th>\n",
       "      <td>1832624</td>\n",
       "      <td>3381</td>\n",
       "      <td>7610.0</td>\n",
       "      <td>200:20</td>\n",
       "      <td>0.0</td>\n",
       "      <td>20160429.0</td>\n",
       "      <td>NaN</td>\n",
       "      <td>-1</td>\n",
       "      <td>5</td>\n",
       "      <td>0</td>\n",
       "      <td>0</td>\n",
       "      <td>0</td>\n",
       "      <td>0</td>\n",
       "      <td>0</td>\n",
       "      <td>1</td>\n",
       "      <td>0</td>\n",
       "      <td>0</td>\n",
       "      <td>0.90</td>\n",
       "      <td>1</td>\n",
       "    </tr>\n",
       "    <tr>\n",
       "      <th>3</th>\n",
       "      <td>2029232</td>\n",
       "      <td>3381</td>\n",
       "      <td>11951.0</td>\n",
       "      <td>200:20</td>\n",
       "      <td>1.0</td>\n",
       "      <td>20160129.0</td>\n",
       "      <td>NaN</td>\n",
       "      <td>-1</td>\n",
       "      <td>5</td>\n",
       "      <td>0</td>\n",
       "      <td>0</td>\n",
       "      <td>0</td>\n",
       "      <td>0</td>\n",
       "      <td>0</td>\n",
       "      <td>1</td>\n",
       "      <td>0</td>\n",
       "      <td>0</td>\n",
       "      <td>0.90</td>\n",
       "      <td>1</td>\n",
       "    </tr>\n",
       "    <tr>\n",
       "      <th>4</th>\n",
       "      <td>2223968</td>\n",
       "      <td>3381</td>\n",
       "      <td>9776.0</td>\n",
       "      <td>10:5</td>\n",
       "      <td>2.0</td>\n",
       "      <td>20160129.0</td>\n",
       "      <td>NaN</td>\n",
       "      <td>-1</td>\n",
       "      <td>5</td>\n",
       "      <td>0</td>\n",
       "      <td>0</td>\n",
       "      <td>0</td>\n",
       "      <td>0</td>\n",
       "      <td>0</td>\n",
       "      <td>1</td>\n",
       "      <td>0</td>\n",
       "      <td>0</td>\n",
       "      <td>0.50</td>\n",
       "      <td>1</td>\n",
       "    </tr>\n",
       "  </tbody>\n",
       "</table>\n",
       "</div>"
      ],
      "text/plain": [
       "   User_id  Merchant_id  Coupon_id Discount_rate  Distance  Date_received  \\\n",
       "0  1439408         2632     8591.0          20:1       0.0     20160217.0   \n",
       "1  1439408         2632     1078.0          20:1       0.0     20160319.0   \n",
       "2  1832624         3381     7610.0        200:20       0.0     20160429.0   \n",
       "3  2029232         3381    11951.0        200:20       1.0     20160129.0   \n",
       "4  2223968         3381     9776.0          10:5       2.0     20160129.0   \n",
       "\n",
       "   Date  Label  weekday  weekend  weekday_1  weekday_2  weekday_3  weekday_4  \\\n",
       "0   NaN     -1        3        0          0          0          1          0   \n",
       "1   NaN     -1        6        1          0          0          0          0   \n",
       "2   NaN     -1        5        0          0          0          0          0   \n",
       "3   NaN     -1        5        0          0          0          0          0   \n",
       "4   NaN     -1        5        0          0          0          0          0   \n",
       "\n",
       "   weekday_5  weekday_6  weekday_7  discount_rate  discount_type  \n",
       "0          0          0          0           0.95              1  \n",
       "1          0          1          0           0.95              1  \n",
       "2          1          0          0           0.90              1  \n",
       "3          1          0          0           0.90              1  \n",
       "4          1          0          0           0.50              1  "
      ]
     },
     "execution_count": 23,
     "metadata": {},
     "output_type": "execute_result"
    }
   ],
   "source": [
    "dfoff.head()"
   ]
  },
  {
   "cell_type": "code",
   "execution_count": 24,
   "metadata": {
    "collapsed": true
   },
   "outputs": [],
   "source": [
    "# Naive Model\n",
    "df_x = dfoff[~(dfoff.Label == -1)]\n",
    "df_y = df_x['Label']\n",
    "df_x = df_x.drop(['Label'], axis = 1)"
   ]
  },
  {
   "cell_type": "code",
   "execution_count": 25,
   "metadata": {},
   "outputs": [
    {
     "name": "stdout",
     "output_type": "stream",
     "text": [
      "12 ['discount_rate', 'discount_type', 'Distance', 'weekday', 'weekend', 'weekday_1', 'weekday_2', 'weekday_3', 'weekday_4', 'weekday_5', 'weekday_6', 'weekday_7']\n"
     ]
    }
   ],
   "source": [
    "# predict_feature\n",
    "original_feature = ['discount_rate',\n",
    "                    'discount_type',\n",
    "                    'Distance', \n",
    "                    'weekday', \n",
    "                    'weekend'] + weekdaycols\n",
    "print(len(original_feature),original_feature)\n",
    "\n",
    "df_x = df_x[original_feature]\n",
    "dftest = dftest_[original_feature]\n",
    "dftest = dftest.reset_index(drop = True)\n",
    "dftest_ = dftest_.reset_index(drop = True)"
   ]
  },
  {
   "cell_type": "code",
   "execution_count": 27,
   "metadata": {},
   "outputs": [
    {
     "data": {
      "text/html": [
       "<div>\n",
       "<style>\n",
       "    .dataframe thead tr:only-child th {\n",
       "        text-align: right;\n",
       "    }\n",
       "\n",
       "    .dataframe thead th {\n",
       "        text-align: left;\n",
       "    }\n",
       "\n",
       "    .dataframe tbody tr th {\n",
       "        vertical-align: top;\n",
       "    }\n",
       "</style>\n",
       "<table border=\"1\" class=\"dataframe\">\n",
       "  <thead>\n",
       "    <tr style=\"text-align: right;\">\n",
       "      <th></th>\n",
       "      <th>discount_rate</th>\n",
       "      <th>discount_type</th>\n",
       "      <th>Distance</th>\n",
       "      <th>weekday</th>\n",
       "      <th>weekend</th>\n",
       "      <th>weekday_1</th>\n",
       "      <th>weekday_2</th>\n",
       "      <th>weekday_3</th>\n",
       "      <th>weekday_4</th>\n",
       "      <th>weekday_5</th>\n",
       "      <th>weekday_6</th>\n",
       "      <th>weekday_7</th>\n",
       "    </tr>\n",
       "  </thead>\n",
       "  <tbody>\n",
       "    <tr>\n",
       "      <th>0</th>\n",
       "      <td>0.866667</td>\n",
       "      <td>1</td>\n",
       "      <td>1.0</td>\n",
       "      <td>6</td>\n",
       "      <td>1</td>\n",
       "      <td>0</td>\n",
       "      <td>0</td>\n",
       "      <td>0</td>\n",
       "      <td>0</td>\n",
       "      <td>0</td>\n",
       "      <td>1</td>\n",
       "      <td>0</td>\n",
       "    </tr>\n",
       "    <tr>\n",
       "      <th>1</th>\n",
       "      <td>0.950000</td>\n",
       "      <td>1</td>\n",
       "      <td>0.0</td>\n",
       "      <td>1</td>\n",
       "      <td>0</td>\n",
       "      <td>1</td>\n",
       "      <td>0</td>\n",
       "      <td>0</td>\n",
       "      <td>0</td>\n",
       "      <td>0</td>\n",
       "      <td>0</td>\n",
       "      <td>0</td>\n",
       "    </tr>\n",
       "    <tr>\n",
       "      <th>2</th>\n",
       "      <td>0.950000</td>\n",
       "      <td>1</td>\n",
       "      <td>0.0</td>\n",
       "      <td>1</td>\n",
       "      <td>0</td>\n",
       "      <td>1</td>\n",
       "      <td>0</td>\n",
       "      <td>0</td>\n",
       "      <td>0</td>\n",
       "      <td>0</td>\n",
       "      <td>0</td>\n",
       "      <td>0</td>\n",
       "    </tr>\n",
       "    <tr>\n",
       "      <th>3</th>\n",
       "      <td>0.833333</td>\n",
       "      <td>1</td>\n",
       "      <td>0.0</td>\n",
       "      <td>1</td>\n",
       "      <td>0</td>\n",
       "      <td>1</td>\n",
       "      <td>0</td>\n",
       "      <td>0</td>\n",
       "      <td>0</td>\n",
       "      <td>0</td>\n",
       "      <td>0</td>\n",
       "      <td>0</td>\n",
       "    </tr>\n",
       "    <tr>\n",
       "      <th>4</th>\n",
       "      <td>0.950000</td>\n",
       "      <td>1</td>\n",
       "      <td>0.0</td>\n",
       "      <td>4</td>\n",
       "      <td>0</td>\n",
       "      <td>0</td>\n",
       "      <td>0</td>\n",
       "      <td>0</td>\n",
       "      <td>1</td>\n",
       "      <td>0</td>\n",
       "      <td>0</td>\n",
       "      <td>0</td>\n",
       "    </tr>\n",
       "  </tbody>\n",
       "</table>\n",
       "</div>"
      ],
      "text/plain": [
       "   discount_rate  discount_type  Distance  weekday  weekend  weekday_1  \\\n",
       "0       0.866667              1       1.0        6        1          0   \n",
       "1       0.950000              1       0.0        1        0          1   \n",
       "2       0.950000              1       0.0        1        0          1   \n",
       "3       0.833333              1       0.0        1        0          1   \n",
       "4       0.950000              1       0.0        4        0          0   \n",
       "\n",
       "   weekday_2  weekday_3  weekday_4  weekday_5  weekday_6  weekday_7  \n",
       "0          0          0          0          0          1          0  \n",
       "1          0          0          0          0          0          0  \n",
       "2          0          0          0          0          0          0  \n",
       "3          0          0          0          0          0          0  \n",
       "4          0          0          1          0          0          0  "
      ]
     },
     "execution_count": 27,
     "metadata": {},
     "output_type": "execute_result"
    }
   ],
   "source": [
    "dftest.head()"
   ]
  },
  {
   "cell_type": "code",
   "execution_count": 28,
   "metadata": {},
   "outputs": [
    {
     "data": {
      "text/html": [
       "<div>\n",
       "<style>\n",
       "    .dataframe thead tr:only-child th {\n",
       "        text-align: right;\n",
       "    }\n",
       "\n",
       "    .dataframe thead th {\n",
       "        text-align: left;\n",
       "    }\n",
       "\n",
       "    .dataframe tbody tr th {\n",
       "        vertical-align: top;\n",
       "    }\n",
       "</style>\n",
       "<table border=\"1\" class=\"dataframe\">\n",
       "  <thead>\n",
       "    <tr style=\"text-align: right;\">\n",
       "      <th></th>\n",
       "      <th>User_id</th>\n",
       "      <th>Merchant_id</th>\n",
       "      <th>Coupon_id</th>\n",
       "      <th>Discount_rate</th>\n",
       "      <th>Distance</th>\n",
       "      <th>Date_received</th>\n",
       "      <th>weekday</th>\n",
       "      <th>weekend</th>\n",
       "      <th>weekday_1</th>\n",
       "      <th>weekday_2</th>\n",
       "      <th>weekday_3</th>\n",
       "      <th>weekday_4</th>\n",
       "      <th>weekday_5</th>\n",
       "      <th>weekday_6</th>\n",
       "      <th>weekday_7</th>\n",
       "      <th>discount_rate</th>\n",
       "      <th>discount_type</th>\n",
       "    </tr>\n",
       "  </thead>\n",
       "  <tbody>\n",
       "    <tr>\n",
       "      <th>0</th>\n",
       "      <td>1439408</td>\n",
       "      <td>4663</td>\n",
       "      <td>11002.0</td>\n",
       "      <td>150:20</td>\n",
       "      <td>1.0</td>\n",
       "      <td>20160528.0</td>\n",
       "      <td>6</td>\n",
       "      <td>1</td>\n",
       "      <td>0</td>\n",
       "      <td>0</td>\n",
       "      <td>0</td>\n",
       "      <td>0</td>\n",
       "      <td>0</td>\n",
       "      <td>1</td>\n",
       "      <td>0</td>\n",
       "      <td>0.866667</td>\n",
       "      <td>1</td>\n",
       "    </tr>\n",
       "    <tr>\n",
       "      <th>1</th>\n",
       "      <td>1439408</td>\n",
       "      <td>2632</td>\n",
       "      <td>8591.0</td>\n",
       "      <td>20:1</td>\n",
       "      <td>0.0</td>\n",
       "      <td>20160613.0</td>\n",
       "      <td>1</td>\n",
       "      <td>0</td>\n",
       "      <td>1</td>\n",
       "      <td>0</td>\n",
       "      <td>0</td>\n",
       "      <td>0</td>\n",
       "      <td>0</td>\n",
       "      <td>0</td>\n",
       "      <td>0</td>\n",
       "      <td>0.950000</td>\n",
       "      <td>1</td>\n",
       "    </tr>\n",
       "    <tr>\n",
       "      <th>3</th>\n",
       "      <td>1439408</td>\n",
       "      <td>2632</td>\n",
       "      <td>8591.0</td>\n",
       "      <td>20:1</td>\n",
       "      <td>0.0</td>\n",
       "      <td>20160516.0</td>\n",
       "      <td>1</td>\n",
       "      <td>0</td>\n",
       "      <td>1</td>\n",
       "      <td>0</td>\n",
       "      <td>0</td>\n",
       "      <td>0</td>\n",
       "      <td>0</td>\n",
       "      <td>0</td>\n",
       "      <td>0</td>\n",
       "      <td>0.950000</td>\n",
       "      <td>1</td>\n",
       "    </tr>\n",
       "    <tr>\n",
       "      <th>4</th>\n",
       "      <td>2029232</td>\n",
       "      <td>450</td>\n",
       "      <td>1532.0</td>\n",
       "      <td>30:5</td>\n",
       "      <td>0.0</td>\n",
       "      <td>20160530.0</td>\n",
       "      <td>1</td>\n",
       "      <td>0</td>\n",
       "      <td>1</td>\n",
       "      <td>0</td>\n",
       "      <td>0</td>\n",
       "      <td>0</td>\n",
       "      <td>0</td>\n",
       "      <td>0</td>\n",
       "      <td>0</td>\n",
       "      <td>0.833333</td>\n",
       "      <td>1</td>\n",
       "    </tr>\n",
       "    <tr>\n",
       "      <th>5</th>\n",
       "      <td>2029232</td>\n",
       "      <td>6459</td>\n",
       "      <td>12737.0</td>\n",
       "      <td>20:1</td>\n",
       "      <td>0.0</td>\n",
       "      <td>20160519.0</td>\n",
       "      <td>4</td>\n",
       "      <td>0</td>\n",
       "      <td>0</td>\n",
       "      <td>0</td>\n",
       "      <td>0</td>\n",
       "      <td>1</td>\n",
       "      <td>0</td>\n",
       "      <td>0</td>\n",
       "      <td>0</td>\n",
       "      <td>0.950000</td>\n",
       "      <td>1</td>\n",
       "    </tr>\n",
       "  </tbody>\n",
       "</table>\n",
       "</div>"
      ],
      "text/plain": [
       "   User_id  Merchant_id  Coupon_id Discount_rate  Distance  Date_received  \\\n",
       "0  1439408         4663    11002.0        150:20       1.0     20160528.0   \n",
       "1  1439408         2632     8591.0          20:1       0.0     20160613.0   \n",
       "3  1439408         2632     8591.0          20:1       0.0     20160516.0   \n",
       "4  2029232          450     1532.0          30:5       0.0     20160530.0   \n",
       "5  2029232         6459    12737.0          20:1       0.0     20160519.0   \n",
       "\n",
       "   weekday  weekend  weekday_1  weekday_2  weekday_3  weekday_4  weekday_5  \\\n",
       "0        6        1          0          0          0          0          0   \n",
       "1        1        0          1          0          0          0          0   \n",
       "3        1        0          1          0          0          0          0   \n",
       "4        1        0          1          0          0          0          0   \n",
       "5        4        0          0          0          0          1          0   \n",
       "\n",
       "   weekday_6  weekday_7  discount_rate  discount_type  \n",
       "0          1          0       0.866667              1  \n",
       "1          0          0       0.950000              1  \n",
       "3          0          0       0.950000              1  \n",
       "4          0          0       0.833333              1  \n",
       "5          0          0       0.950000              1  "
      ]
     },
     "execution_count": 28,
     "metadata": {},
     "output_type": "execute_result"
    }
   ],
   "source": [
    "dftest_.head()"
   ]
  },
  {
   "cell_type": "code",
   "execution_count": 97,
   "metadata": {
    "scrolled": true
   },
   "outputs": [
    {
     "name": "stdout",
     "output_type": "stream",
     "text": [
      "0.829296551847\n"
     ]
    },
    {
     "data": {
      "image/png": "[encoded data removed]",
      "text/plain": [
       "<matplotlib.figure.Figure at 0x1f34ba26dd8>"
      ]
     },
     "metadata": {},
     "output_type": "display_data"
    }
   ],
   "source": [
    "# debug: https://stackoverflow.com/questions/55231206/python-error-numpy-float64-object-has-no-attribute-append\n",
    "# logistic regression\n",
    "from sklearn.linear_model import LogisticRegression\n",
    "from sklearn.model_selection import cross_val_score\n",
    "\n",
    "c_values =[]\n",
    "scr_values = []\n",
    "for c in np.arange(-5, 5).astype(float):\n",
    "    logit_clf = LogisticRegression(random_state = 0, solver='lbfgs', C = 10 ** c)\n",
    "    logit_clf.fit(df_x, df_y)\n",
    "    c_values.append(10 ** c)\n",
    "    scr_values.append(cross_val_score(logit_clf, df_x, df_y, cv = 10).mean())\n",
    "plt.plot(c_values, scr_values)\n",
    "print(cross_val_score(logit_clf, df_x, df_y, cv = 10).mean())"
   ]
  },
  {
   "cell_type": "code",
   "execution_count": 107,
   "metadata": {
    "scrolled": true
   },
   "outputs": [],
   "source": [
    "# logistic regression submit\n",
    "logit_clf = LogisticRegression(random_state = 0, solver='lbfgs', C = 10 ** -5)\n",
    "logit_clf.fit(df_x, df_y)\n",
    "logit_pred = logit_clf.predict(dftest)\n",
    "logit_pred_proba = logit_clf.predict_proba(dftest)\n",
    "sub = pd.concat((dftest_[[\"User_id\", \"Coupon_id\", \"Date_received\"]], pd.DataFrame(logit_pred_proba).iloc[:, 1]), axis=1)\n",
    "sub.loc[:, \"User_id\"] = sub[\"User_id\"].apply(lambda x:str(int(x)))\n",
    "sub.loc[:, \"Coupon_id\"] = sub[\"Coupon_id\"].apply(lambda x:str(int(x)))\n",
    "sub.loc[:, \"Date_received\"] = sub[\"Date_received\"].apply(lambda x:str(int(x)))\n",
    "sub[\"uid\"] = sub[[\"User_id\", \"Coupon_id\", \"Date_received\"]].apply(lambda x: '_'.join(x.values), axis=1)\n",
    "sub.reset_index(drop=True, inplace=True)\n",
    "\n",
    "sub = sub.groupby(\"uid\", as_index=False).mean()\n",
    "sub = sub[[\"uid\", 1]]\n",
    "sub.columns = [\"uid\", \"label\"]\n",
    "sub.to_csv('Coupon_logit.csv',  index=False)  "
   ]
  },
  {
   "cell_type": "code",
   "execution_count": 117,
   "metadata": {},
   "outputs": [],
   "source": [
    "# Adaboost(logistic regression) submit\n",
    "from sklearn.ensemble import AdaBoostClassifier\n",
    "ada_logit = AdaBoostClassifier(base_estimator=logit_clf, learning_rate=0.001)\n",
    "ada_logit.fit(df_x, df_y)\n",
    "ada_logit_pred_proba = ada_logit.predict_proba(dftest)\n",
    "sub = pd.concat((sub[\"uid\"], pd.DataFrame(ada_logit_pred_proba).iloc[:, 1]), axis=1)\n",
    "sub = sub.groupby(\"uid\", as_index=False).mean()\n",
    "sub.columns = [\"uid\", \"label\"]\n",
    "sub.to_csv('Coupon_ada_logit.csv',  index=False) "
   ]
  },
  {
   "cell_type": "code",
   "execution_count": 113,
   "metadata": {},
   "outputs": [
    {
     "name": "stdout",
     "output_type": "stream",
     "text": [
      "0.829296551847\n"
     ]
    }
   ],
   "source": [
    "print(cross_val_score(ada_logit, df_x, df_y, cv = 10).mean())"
   ]
  },
  {
   "cell_type": "code",
   "execution_count": 131,
   "metadata": {},
   "outputs": [
    {
     "data": {
      "text/plain": [
       "[<matplotlib.lines.Line2D at 0x1f355960630>]"
      ]
     },
     "execution_count": 131,
     "metadata": {},
     "output_type": "execute_result"
    },
    {
     "data": {
      "image/png": "[encoded data removed]",
      "text/plain": [
       "<matplotlib.figure.Figure at 0x1f36d97bd30>"
      ]
     },
     "metadata": {},
     "output_type": "display_data"
    }
   ],
   "source": [
    "# Decision Tree\n",
    "from sklearn.tree import DecisionTreeClassifier\n",
    "import matplotlib.pyplot as plt\n",
    "%matplotlib inline  \n",
    "x = []\n",
    "y = []\n",
    "for i in range(1,50):\n",
    "    x.append(i)\n",
    "    clf = DecisionTreeClassifier(random_state = 0, max_depth = i)\n",
    "    clf.fit(df_x, df_y)\n",
    "    DF_pred = clf.predict(df_x)\n",
    "    y.append(metrics.roc_auc_score(df_y,  DF_pred).mean())\n",
    "plt.plot(x, y)"
   ]
  },
  {
   "cell_type": "code",
   "execution_count": 71,
   "metadata": {},
   "outputs": [],
   "source": [
    "# Decision Tree submit\n",
    "DT_clf = DecisionTreeClassifier(random_state = 0, max_depth = 6)\n",
    "DT_clf.fit(df_x, df_y)\n",
    "DT_pred = DT_clf.predict(dftest)\n",
    "DT_pred_proba = DT_clf.predict_proba(dftest)\n",
    "sub = pd.concat((sub[\"uid\"], pd.DataFrame(DT_pred_proba).iloc[:, 1]), axis=1)\n",
    "sub = sub.groupby(\"uid\", as_index=False).mean()\n",
    "sub.columns = [\"uid\", \"label\"]\n",
    "sub.to_csv('Coupon_DT.csv',  index=False) "
   ]
  },
  {
   "cell_type": "code",
   "execution_count": 130,
   "metadata": {},
   "outputs": [
    {
     "data": {
      "text/plain": [
       "[<matplotlib.lines.Line2D at 0x1f3558d7a58>]"
      ]
     },
     "execution_count": 130,
     "metadata": {},
     "output_type": "execute_result"
    },
    {
     "data": {
      "image/png": "[encoded data removed]",
      "text/plain": [
       "<matplotlib.figure.Figure at 0x1f350e3a358>"
      ]
     },
     "metadata": {},
     "output_type": "display_data"
    }
   ],
   "source": [
    "# Random Forest\n",
    "from sklearn.ensemble import RandomForestClassifier\n",
    "import matplotlib.pyplot as plt\n",
    "%matplotlib inline  \n",
    "x = []\n",
    "y = []\n",
    "for i in range(1,50):\n",
    "    x.append(i)\n",
    "    clf = RandomForestClassifier( max_depth = 10, n_estimators = i)\n",
    "    clf.fit(df_x, df_y)\n",
    "    RF_pred = clf.predict(df_x)\n",
    "    y.append(metrics.roc_auc_score(df_y,  RF_pred).mean())\n",
    "plt.plot(x, y)"
   ]
  },
  {
   "cell_type": "code",
   "execution_count": 121,
   "metadata": {},
   "outputs": [
    {
     "name": "stdout",
     "output_type": "stream",
     "text": [
      "0.829296551847\n"
     ]
    }
   ],
   "source": [
    "print(cross_val_score(RF_clf, df_x, df_y, cv = 10).mean())"
   ]
  },
  {
   "cell_type": "code",
   "execution_count": 122,
   "metadata": {},
   "outputs": [
    {
     "data": {
      "text/plain": [
       "14    1\n",
       "32    0\n",
       "33    1\n",
       "34    1\n",
       "38    1\n",
       "Name: Label, dtype: int64"
      ]
     },
     "execution_count": 122,
     "metadata": {},
     "output_type": "execute_result"
    }
   ],
   "source": [
    "df_y.head()"
   ]
  },
  {
   "cell_type": "code",
   "execution_count": 126,
   "metadata": {},
   "outputs": [
    {
     "data": {
      "text/plain": [
       "0.5"
      ]
     },
     "execution_count": 126,
     "metadata": {},
     "output_type": "execute_result"
    }
   ],
   "source": [
    "from sklearn import metrics\n",
    "auc = metrics.roc_auc_score(df_y,  RF_pred)\n",
    "auc"
   ]
  },
  {
   "cell_type": "code",
   "execution_count": 124,
   "metadata": {
    "collapsed": true
   },
   "outputs": [],
   "source": [
    "RF_pred = RF_clf.predict(df_x)"
   ]
  },
  {
   "cell_type": "code",
   "execution_count": 120,
   "metadata": {},
   "outputs": [],
   "source": [
    "# Random Forest submit\n",
    "RF_clf = RandomForestClassifier(random_state = 0, max_depth = 3, n_estimators = 2)\n",
    "RF_clf.fit(df_x, df_y)\n",
    "RF_pred = RF_clf.predict(dftest)\n",
    "RF_pred_proba = RF_clf.predict_proba(dftest)\n",
    "sub = pd.concat((sub[\"uid\"], pd.DataFrame(RF_pred_proba).iloc[:, 1]), axis=1)\n",
    "sub = sub.groupby(\"uid\", as_index=False).mean()\n",
    "sub.columns = [\"uid\", \"label\"]\n",
    "sub.to_csv('Coupon_RF.csv',  index=False) "
   ]
  },
  {
   "cell_type": "code",
   "execution_count": 118,
   "metadata": {},
   "outputs": [
    {
     "name": "stdout",
     "output_type": "stream",
     "text": [
      "0.827597749867\n"
     ]
    }
   ],
   "source": [
    "# Gradient Boost\n",
    "from  sklearn.ensemble  import  GradientBoostingClassifier\n",
    "gdbt  =  GradientBoostingClassifier(learning_rate=1)\n",
    "print(cross_val_score(gdbt, df_x, df_y, cv = 10).mean())"
   ]
  },
  {
   "cell_type": "code",
   "execution_count": 119,
   "metadata": {
    "collapsed": true
   },
   "outputs": [],
   "source": [
    "# Gradient Boost submit\n",
    "gdbt_clf = GradientBoostingClassifier(random_state = 0, max_depth = 5, n_estimators = 2, learning_rate=1)\n",
    "gdbt_clf.fit(df_x, df_y)\n",
    "gdbt_pred = gdbt_clf.predict(dftest)\n",
    "gdbt_pred_proba = gdbt_clf.predict_proba(dftest)\n",
    "sub = pd.concat((sub[\"uid\"], pd.DataFrame(gdbt_pred_proba).iloc[:, 1]), axis=1)\n",
    "sub = sub.groupby(\"uid\", as_index=False).mean()\n",
    "sub.columns = [\"uid\", \"label\"]\n",
    "sub.to_csv('Coupon_gdbt.csv',  index=False)  "
   ]
  },
  {
   "cell_type": "code",
   "execution_count": 74,
   "metadata": {
    "collapsed": true
   },
   "outputs": [],
   "source": [
    "# Blending\n",
    "blending_pred_proba  =  logit_pred_proba*1/3  +  gdbt_pred_proba*1/3  +  RF_pred_proba*1/3\n",
    "threshold  =  0.5  \n",
    "blending_pred  =  np.where(blending_pred_proba[:,1]>threshold,  1,  0)  #  使用 np.where 函數,將 y_pred > 0.5 的值變為 1,小於 0.5 的為 0\n",
    "sub = pd.concat((sub[\"uid\"], pd.DataFrame(blending_pred_proba).iloc[:, 1]), axis=1)\n",
    "sub = sub.groupby(\"uid\", as_index=False).mean()\n",
    "sub.columns = [\"uid\", \"label\"]\n",
    "sub.to_csv('Coupon_blending.csv',  index=False) "
   ]
  }
 ],
 "metadata": {
  "kernelspec": {
   "display_name": "Python 3",
   "language": "python",
   "name": "python3"
  },
  "language_info": {
   "codemirror_mode": {
    "name": "ipython",
    "version": 3
   },
   "file_extension": ".py",
   "mimetype": "text/x-python",
   "name": "python",
   "nbconvert_exporter": "python",
   "pygments_lexer": "ipython3",
   "version": "3.6.1"
  }
 },
 "nbformat": 4,
 "nbformat_minor": 2
}
